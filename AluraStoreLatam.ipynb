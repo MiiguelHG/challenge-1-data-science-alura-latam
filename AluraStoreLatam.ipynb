{
  "cells": [
    {
      "cell_type": "markdown",
      "metadata": {
        "id": "RhEdWd9YUR6H"
      },
      "source": [
        "### Importación de datos\n",
        "\n"
      ]
    },
    {
      "cell_type": "code",
      "execution_count": 1,
      "metadata": {
        "colab": {
          "base_uri": "https://localhost:8080/",
          "height": 206
        },
        "id": "T3EvaeQ_INIL",
        "outputId": "e9c5efe1-82a3-43ab-e8d7-6d01e4fa3514"
      },
      "outputs": [],
      "source": [
        "import pandas as pd\n",
        "\n",
        "url = \"https://raw.githubusercontent.com/alura-es-cursos/challenge1-data-science-latam/refs/heads/main/base-de-datos-challenge1-latam/tienda_1%20.csv\"\n",
        "url2 = \"https://raw.githubusercontent.com/alura-es-cursos/challenge1-data-science-latam/refs/heads/main/base-de-datos-challenge1-latam/tienda_2.csv\"\n",
        "url3 = \"https://raw.githubusercontent.com/alura-es-cursos/challenge1-data-science-latam/refs/heads/main/base-de-datos-challenge1-latam/tienda_3.csv\"\n",
        "url4 = \"https://raw.githubusercontent.com/alura-es-cursos/challenge1-data-science-latam/refs/heads/main/base-de-datos-challenge1-latam/tienda_4.csv\""
      ]
    },
    {
      "cell_type": "code",
      "execution_count": 2,
      "metadata": {},
      "outputs": [],
      "source": [
        "def cargar_datos(urls:list[str]):\n",
        "\t'''Carga y concatena los datos de varias tiendas en un solo dataframe, agregando una columna 'Tienda_id' para identificar la tienda de origen.'''\n",
        "\ttiendas = []\n",
        "\n",
        "\tfor i, url in enumerate(urls):\n",
        "\t\ttienda = pd.read_csv(url)\n",
        "\n",
        "\t\ttienda['Tienda_id'] = i + 1\n",
        "\n",
        "\t\ttiendas.append(tienda)\n",
        "\n",
        "\treturn pd.concat(tiendas, ignore_index=True)"
      ]
    },
    {
      "cell_type": "code",
      "execution_count": 3,
      "metadata": {},
      "outputs": [],
      "source": [
        "urls = [url, url2, url3, url4]\n",
        "# urls = [url, url3, url4]\n",
        "\n",
        "datos = cargar_datos(urls)"
      ]
    },
    {
      "cell_type": "code",
      "execution_count": 4,
      "metadata": {},
      "outputs": [
        {
          "data": {
            "application/vnd.microsoft.datawrangler.viewer.v0+json": {
              "columns": [
                {
                  "name": "index",
                  "rawType": "int64",
                  "type": "integer"
                },
                {
                  "name": "Producto",
                  "rawType": "object",
                  "type": "string"
                },
                {
                  "name": "Categoría del Producto",
                  "rawType": "object",
                  "type": "string"
                },
                {
                  "name": "Precio",
                  "rawType": "float64",
                  "type": "float"
                },
                {
                  "name": "Costo de envío",
                  "rawType": "float64",
                  "type": "float"
                },
                {
                  "name": "Fecha de Compra",
                  "rawType": "object",
                  "type": "string"
                },
                {
                  "name": "Vendedor",
                  "rawType": "object",
                  "type": "string"
                },
                {
                  "name": "Lugar de Compra",
                  "rawType": "object",
                  "type": "string"
                },
                {
                  "name": "Calificación",
                  "rawType": "int64",
                  "type": "integer"
                },
                {
                  "name": "Método de pago",
                  "rawType": "object",
                  "type": "string"
                },
                {
                  "name": "Cantidad de cuotas",
                  "rawType": "int64",
                  "type": "integer"
                },
                {
                  "name": "lat",
                  "rawType": "float64",
                  "type": "float"
                },
                {
                  "name": "lon",
                  "rawType": "float64",
                  "type": "float"
                },
                {
                  "name": "Tienda_id",
                  "rawType": "int64",
                  "type": "integer"
                }
              ],
              "ref": "73c61363-00ac-4dd4-b665-cd4879fe12a0",
              "rows": [
                [
                  "7077",
                  "Lavavajillas",
                  "Electrodomésticos",
                  "1084800.0",
                  "56000.0",
                  "11/11/2022",
                  "Rafael Acosta",
                  "Bogotá",
                  "4",
                  "Tarjeta de crédito",
                  "3",
                  "4.60971",
                  "-74.08175",
                  "4"
                ],
                [
                  "7078",
                  "Cama box",
                  "Muebles",
                  "473800.0",
                  "25400.0",
                  "03/01/2020",
                  "Izabela de León",
                  "Cúcuta",
                  "5",
                  "Tarjeta de crédito",
                  "2",
                  "7.89391",
                  "-72.50782",
                  "4"
                ],
                [
                  "7079",
                  "Balón de baloncesto",
                  "Deportes y diversión",
                  "23700.0",
                  "0.0",
                  "25/12/2022",
                  "Maria Alfonso",
                  "Medellín",
                  "5",
                  "Nequi",
                  "1",
                  "6.25184",
                  "-75.56359",
                  "4"
                ],
                [
                  "7080",
                  "Modelado predictivo",
                  "Libros",
                  "57700.0",
                  "1300.0",
                  "23/11/2021",
                  "Lucas Olivera",
                  "Medellín",
                  "3",
                  "Nequi",
                  "1",
                  "6.25184",
                  "-75.56359",
                  "4"
                ],
                [
                  "7081",
                  "Auriculares",
                  "Electrónicos",
                  "138900.0",
                  "5600.0",
                  "25/04/2022",
                  "Blanca Ramirez",
                  "Bogotá",
                  "4",
                  "Tarjeta de crédito",
                  "7",
                  "4.60971",
                  "-74.08175",
                  "4"
                ],
                [
                  "7082",
                  "Refrigerador",
                  "Electrodomésticos",
                  "1591900.0",
                  "83000.0",
                  "30/05/2020",
                  "Beatriz Morales",
                  "Cartagena",
                  "1",
                  "Tarjeta de crédito",
                  "10",
                  "10.39972",
                  "-75.51444",
                  "4"
                ],
                [
                  "7083",
                  "Guitarra eléctrica",
                  "Instrumentos musicales",
                  "626200.0",
                  "38000.0",
                  "11/07/2021",
                  "Izabela de León",
                  "Medellín",
                  "5",
                  "Tarjeta de crédito",
                  "1",
                  "6.25184",
                  "-75.56359",
                  "4"
                ],
                [
                  "7084",
                  "Auriculares con micrófono",
                  "Electrónicos",
                  "94500.0",
                  "11900.0",
                  "19/02/2022",
                  "Santiago Silva",
                  "Medellín",
                  "4",
                  "Tarjeta de crédito",
                  "2",
                  "6.25184",
                  "-75.56359",
                  "4"
                ],
                [
                  "7085",
                  "Iphone 15",
                  "Electrónicos",
                  "2339000.0",
                  "122700.0",
                  "15/10/2022",
                  "Camila Rivera",
                  "Bogotá",
                  "5",
                  "Tarjeta de crédito",
                  "3",
                  "4.60971",
                  "-74.08175",
                  "4"
                ],
                [
                  "7086",
                  "Mesa de noche",
                  "Muebles",
                  "273300.0",
                  "21900.0",
                  "18/11/2022",
                  "Rafael Acosta",
                  "Bogotá",
                  "1",
                  "Tarjeta de crédito",
                  "3",
                  "4.60971",
                  "-74.08175",
                  "4"
                ],
                [
                  "7087",
                  "Balón de baloncesto",
                  "Deportes y diversión",
                  "68000.0",
                  "6000.0",
                  "03/03/2022",
                  "Felipe Santos",
                  "Manizales",
                  "4",
                  "Nequi",
                  "1",
                  "5.06889",
                  "-75.51738",
                  "4"
                ],
                [
                  "7088",
                  "Muñeca bebé",
                  "Juguetes",
                  "47500.0",
                  "0.0",
                  "16/09/2020",
                  "Pedro Gomez",
                  "Bogotá",
                  "5",
                  "Tarjeta de crédito",
                  "2",
                  "4.60971",
                  "-74.08175",
                  "4"
                ],
                [
                  "7089",
                  "Dashboards con Power BI",
                  "Libros",
                  "36000.0",
                  "9800.0",
                  "21/11/2020",
                  "Blanca Ramirez",
                  "Bogotá",
                  "5",
                  "Tarjeta de crédito",
                  "3",
                  "4.60971",
                  "-74.08175",
                  "4"
                ],
                [
                  "7090",
                  "Silla de oficina",
                  "Muebles",
                  "382900.0",
                  "20800.0",
                  "23/01/2023",
                  "Blanca Ramirez",
                  "Bogotá",
                  "5",
                  "Cupón",
                  "1",
                  "4.60971",
                  "-74.08175",
                  "4"
                ],
                [
                  "7091",
                  "Kit de bancas",
                  "Muebles",
                  "271100.0",
                  "12600.0",
                  "27/02/2023",
                  "Beatriz Morales",
                  "Bogotá",
                  "1",
                  "Tarjeta de crédito",
                  "6",
                  "4.60971",
                  "-74.08175",
                  "4"
                ],
                [
                  "7092",
                  "Kit de bancas",
                  "Muebles",
                  "240300.0",
                  "13000.0",
                  "31/12/2021",
                  "Juan Fernandez",
                  "Leticia",
                  "5",
                  "Nequi",
                  "1",
                  "-4.21528",
                  "-69.94056",
                  "4"
                ],
                [
                  "7093",
                  "Impresora",
                  "Electrónicos",
                  "238300.0",
                  "10900.0",
                  "14/05/2020",
                  "Lucas Olivera",
                  "Bucaramanga",
                  "5",
                  "Tarjeta de crédito",
                  "4",
                  "7.12539",
                  "-73.1198",
                  "4"
                ],
                [
                  "7094",
                  "Set de vasos",
                  "Artículos para el hogar",
                  "23600.0",
                  "1500.0",
                  "29/12/2020",
                  "Mariana Herrera",
                  "Cali",
                  "1",
                  "Tarjeta de crédito",
                  "1",
                  "3.43722",
                  "-76.5225",
                  "4"
                ],
                [
                  "7095",
                  "Mesa de comedor",
                  "Muebles",
                  "319400.0",
                  "17200.0",
                  "21/07/2021",
                  "Juliana Costa",
                  "Riohacha",
                  "5",
                  "Nequi",
                  "1",
                  "11.54444",
                  "-72.90722",
                  "4"
                ],
                [
                  "7096",
                  "Carrito de control remoto",
                  "Juguetes",
                  "74600.0",
                  "4600.0",
                  "11/03/2020",
                  "Beatriz Morales",
                  "Cartagena",
                  "5",
                  "Tarjeta de crédito",
                  "4",
                  "10.39972",
                  "-75.51444",
                  "4"
                ],
                [
                  "7097",
                  "Cuerda para saltar",
                  "Deportes y diversión",
                  "25500.0",
                  "0.0",
                  "27/05/2021",
                  "Juan Fernandez",
                  "Bogotá",
                  "5",
                  "Nequi",
                  "1",
                  "4.60971",
                  "-74.08175",
                  "4"
                ],
                [
                  "7098",
                  "Estufa",
                  "Electrodomésticos",
                  "826700.0",
                  "42200.0",
                  "09/11/2020",
                  "Juan Fernandez",
                  "Cali",
                  "5",
                  "Tarjeta de crédito",
                  "4",
                  "3.43722",
                  "-76.5225",
                  "4"
                ],
                [
                  "7099",
                  "Cama king",
                  "Muebles",
                  "506200.0",
                  "25100.0",
                  "23/02/2022",
                  "Pedro Gomez",
                  "Pasto",
                  "5",
                  "Tarjeta de crédito",
                  "2",
                  "1.21361",
                  "-77.28111",
                  "4"
                ],
                [
                  "7100",
                  "Carrito de control remoto",
                  "Juguetes",
                  "60100.0",
                  "1400.0",
                  "12/07/2020",
                  "Felipe Santos",
                  "Bogotá",
                  "5",
                  "Tarjeta de crédito",
                  "1",
                  "4.60971",
                  "-74.08175",
                  "4"
                ],
                [
                  "7101",
                  "Cama box",
                  "Muebles",
                  "644700.0",
                  "40200.0",
                  "11/08/2022",
                  "Ángel Rodriguez",
                  "Bogotá",
                  "5",
                  "Tarjeta de crédito",
                  "4",
                  "4.60971",
                  "-74.08175",
                  "4"
                ],
                [
                  "7102",
                  "Kit de bancas",
                  "Muebles",
                  "244500.0",
                  "13400.0",
                  "29/04/2022",
                  "Ángel Rodriguez",
                  "Bogotá",
                  "5",
                  "Nequi",
                  "1",
                  "4.60971",
                  "-74.08175",
                  "4"
                ],
                [
                  "7103",
                  "Balón de voleibol",
                  "Deportes y diversión",
                  "46300.0",
                  "3100.0",
                  "17/07/2022",
                  "Beatriz Morales",
                  "Bogotá",
                  "1",
                  "Tarjeta de crédito",
                  "4",
                  "4.60971",
                  "-74.08175",
                  "4"
                ],
                [
                  "7104",
                  "Mesa de comedor",
                  "Muebles",
                  "228000.0",
                  "14500.0",
                  "06/11/2021",
                  "Lucas Olivera",
                  "Bogotá",
                  "1",
                  "Nequi",
                  "1",
                  "4.60971",
                  "-74.08175",
                  "4"
                ],
                [
                  "7105",
                  "Cama box",
                  "Muebles",
                  "744100.0",
                  "37800.0",
                  "31/03/2020",
                  "Pedro Gomez",
                  "Medellín",
                  "5",
                  "Tarjeta de crédito",
                  "1",
                  "6.25184",
                  "-75.56359",
                  "4"
                ],
                [
                  "7106",
                  "Secadora de ropa",
                  "Electrodomésticos",
                  "925900.0",
                  "47500.0",
                  "08/02/2022",
                  "Blanca Ramirez",
                  "Medellín",
                  "1",
                  "Tarjeta de crédito",
                  "3",
                  "6.25184",
                  "-75.56359",
                  "4"
                ],
                [
                  "7107",
                  "Dashboards con Power BI",
                  "Libros",
                  "34600.0",
                  "0.0",
                  "30/10/2021",
                  "Camila Rivera",
                  "Bogotá",
                  "4",
                  "Tarjeta de crédito",
                  "1",
                  "4.60971",
                  "-74.08175",
                  "4"
                ],
                [
                  "7108",
                  "Modelado predictivo",
                  "Libros",
                  "62600.0",
                  "3500.0",
                  "12/06/2022",
                  "Pedro Gomez",
                  "Pereira",
                  "5",
                  "Tarjeta de crédito",
                  "4",
                  "4.81333",
                  "-75.69611",
                  "4"
                ],
                [
                  "7109",
                  "Mesa de comedor",
                  "Muebles",
                  "345900.0",
                  "18600.0",
                  "10/08/2022",
                  "Blanca Ramirez",
                  "Bogotá",
                  "5",
                  "Nequi",
                  "1",
                  "4.60971",
                  "-74.08175",
                  "4"
                ],
                [
                  "7110",
                  "Dinosaurio Rex",
                  "Juguetes",
                  "17500.0",
                  "1300.0",
                  "28/08/2020",
                  "Blanca Ramirez",
                  "Bogotá",
                  "4",
                  "Tarjeta de crédito",
                  "4",
                  "4.60971",
                  "-74.08175",
                  "4"
                ],
                [
                  "7111",
                  "Cama king",
                  "Muebles",
                  "785600.0",
                  "46500.0",
                  "19/06/2022",
                  "Blanca Ramirez",
                  "Bogotá",
                  "5",
                  "Tarjeta de crédito",
                  "4",
                  "4.60971",
                  "-74.08175",
                  "4"
                ],
                [
                  "7112",
                  "TV LED UHD 4K",
                  "Electrónicos",
                  "2340100.0",
                  "122800.0",
                  "22/04/2020",
                  "Juliana Costa",
                  "Pasto",
                  "5",
                  "Tarjeta de crédito",
                  "3",
                  "1.21361",
                  "-77.28111",
                  "4"
                ],
                [
                  "7113",
                  "Carrito de control remoto",
                  "Juguetes",
                  "61400.0",
                  "1500.0",
                  "08/02/2023",
                  "Juan Fernandez",
                  "Barranquilla",
                  "5",
                  "Tarjeta de crédito",
                  "1",
                  "10.96854",
                  "-74.78132",
                  "4"
                ],
                [
                  "7114",
                  "Vaso térmico",
                  "Deportes y diversión",
                  "31900.0",
                  "1900.0",
                  "15/08/2021",
                  "Beatriz Morales",
                  "Bogotá",
                  "4",
                  "Tarjeta de crédito",
                  "2",
                  "4.60971",
                  "-74.08175",
                  "4"
                ],
                [
                  "7115",
                  "Smart TV",
                  "Electrónicos",
                  "1401300.0",
                  "75000.0",
                  "20/03/2023",
                  "Rafael Acosta",
                  "Medellín",
                  "5",
                  "Tarjeta de crédito",
                  "3",
                  "6.25184",
                  "-75.56359",
                  "4"
                ],
                [
                  "7116",
                  "TV LED UHD 4K",
                  "Electrónicos",
                  "2008100.0",
                  "105100.0",
                  "08/08/2020",
                  "Juan Fernandez",
                  "Riohacha",
                  "1",
                  "Tarjeta de crédito",
                  "2",
                  "11.54444",
                  "-72.90722",
                  "4"
                ],
                [
                  "7117",
                  "Carrito de control remoto",
                  "Juguetes",
                  "81800.0",
                  "2500.0",
                  "14/03/2022",
                  "Lucas Olivera",
                  "Medellín",
                  "3",
                  "Tarjeta de crédito",
                  "10",
                  "6.25184",
                  "-75.56359",
                  "4"
                ],
                [
                  "7118",
                  "Cama box",
                  "Muebles",
                  "545200.0",
                  "29400.0",
                  "16/11/2022",
                  "Pedro Gomez",
                  "Santa Marta",
                  "4",
                  "Tarjeta de crédito",
                  "2",
                  "11.24079",
                  "-74.19904",
                  "4"
                ],
                [
                  "7119",
                  "Mesa de centro",
                  "Muebles",
                  "142900.0",
                  "7800.0",
                  "23/05/2022",
                  "Juan Fernandez",
                  "Bogotá",
                  "5",
                  "Nequi",
                  "1",
                  "4.60971",
                  "-74.08175",
                  "4"
                ],
                [
                  "7120",
                  "Tablet ABXY",
                  "Electrónicos",
                  "1060900.0",
                  "58900.0",
                  "30/04/2021",
                  "Camila Rivera",
                  "Medellín",
                  "5",
                  "Tarjeta de crédito",
                  "5",
                  "6.25184",
                  "-75.56359",
                  "4"
                ],
                [
                  "7121",
                  "Dinosaurio Rex",
                  "Juguetes",
                  "18800.0",
                  "1500.0",
                  "08/06/2020",
                  "Pedro Gomez",
                  "Bogotá",
                  "1",
                  "Tarjeta de crédito",
                  "1",
                  "4.60971",
                  "-74.08175",
                  "4"
                ],
                [
                  "7122",
                  "Cama box",
                  "Muebles",
                  "663800.0",
                  "33500.0",
                  "04/01/2020",
                  "Lucas Olivera",
                  "Cali",
                  "4",
                  "Tarjeta de crédito",
                  "3",
                  "3.43722",
                  "-76.5225",
                  "4"
                ],
                [
                  "7123",
                  "Mesa de comedor",
                  "Muebles",
                  "277700.0",
                  "15500.0",
                  "19/08/2022",
                  "Blanca Ramirez",
                  "Bogotá",
                  "4",
                  "Tarjeta de crédito",
                  "7",
                  "4.60971",
                  "-74.08175",
                  "4"
                ],
                [
                  "7124",
                  "Dinosaurio Rex",
                  "Juguetes",
                  "20100.0",
                  "1300.0",
                  "01/12/2022",
                  "Juan Fernandez",
                  "Cali",
                  "5",
                  "Nequi",
                  "1",
                  "3.43722",
                  "-76.5225",
                  "4"
                ],
                [
                  "7125",
                  "Auriculares con micrófono",
                  "Electrónicos",
                  "148300.0",
                  "8600.0",
                  "13/10/2021",
                  "Felipe Santos",
                  "Pasto",
                  "5",
                  "Tarjeta de crédito",
                  "10",
                  "1.21361",
                  "-77.28111",
                  "4"
                ],
                [
                  "7126",
                  "Lavavajillas",
                  "Electrodomésticos",
                  "1460200.0",
                  "75900.0",
                  "20/03/2020",
                  "Pedro Gomez",
                  "Bogotá",
                  "5",
                  "Tarjeta de débito",
                  "1",
                  "4.60971",
                  "-74.08175",
                  "4"
                ]
              ],
              "shape": {
                "columns": 13,
                "rows": 2358
              }
            },
            "text/html": [
              "<div>\n",
              "<style scoped>\n",
              "    .dataframe tbody tr th:only-of-type {\n",
              "        vertical-align: middle;\n",
              "    }\n",
              "\n",
              "    .dataframe tbody tr th {\n",
              "        vertical-align: top;\n",
              "    }\n",
              "\n",
              "    .dataframe thead th {\n",
              "        text-align: right;\n",
              "    }\n",
              "</style>\n",
              "<table border=\"1\" class=\"dataframe\">\n",
              "  <thead>\n",
              "    <tr style=\"text-align: right;\">\n",
              "      <th></th>\n",
              "      <th>Producto</th>\n",
              "      <th>Categoría del Producto</th>\n",
              "      <th>Precio</th>\n",
              "      <th>Costo de envío</th>\n",
              "      <th>Fecha de Compra</th>\n",
              "      <th>Vendedor</th>\n",
              "      <th>Lugar de Compra</th>\n",
              "      <th>Calificación</th>\n",
              "      <th>Método de pago</th>\n",
              "      <th>Cantidad de cuotas</th>\n",
              "      <th>lat</th>\n",
              "      <th>lon</th>\n",
              "      <th>Tienda_id</th>\n",
              "    </tr>\n",
              "  </thead>\n",
              "  <tbody>\n",
              "    <tr>\n",
              "      <th>7077</th>\n",
              "      <td>Lavavajillas</td>\n",
              "      <td>Electrodomésticos</td>\n",
              "      <td>1084800.0</td>\n",
              "      <td>56000.0</td>\n",
              "      <td>11/11/2022</td>\n",
              "      <td>Rafael Acosta</td>\n",
              "      <td>Bogotá</td>\n",
              "      <td>4</td>\n",
              "      <td>Tarjeta de crédito</td>\n",
              "      <td>3</td>\n",
              "      <td>4.60971</td>\n",
              "      <td>-74.08175</td>\n",
              "      <td>4</td>\n",
              "    </tr>\n",
              "    <tr>\n",
              "      <th>7078</th>\n",
              "      <td>Cama box</td>\n",
              "      <td>Muebles</td>\n",
              "      <td>473800.0</td>\n",
              "      <td>25400.0</td>\n",
              "      <td>03/01/2020</td>\n",
              "      <td>Izabela de León</td>\n",
              "      <td>Cúcuta</td>\n",
              "      <td>5</td>\n",
              "      <td>Tarjeta de crédito</td>\n",
              "      <td>2</td>\n",
              "      <td>7.89391</td>\n",
              "      <td>-72.50782</td>\n",
              "      <td>4</td>\n",
              "    </tr>\n",
              "    <tr>\n",
              "      <th>7079</th>\n",
              "      <td>Balón de baloncesto</td>\n",
              "      <td>Deportes y diversión</td>\n",
              "      <td>23700.0</td>\n",
              "      <td>0.0</td>\n",
              "      <td>25/12/2022</td>\n",
              "      <td>Maria Alfonso</td>\n",
              "      <td>Medellín</td>\n",
              "      <td>5</td>\n",
              "      <td>Nequi</td>\n",
              "      <td>1</td>\n",
              "      <td>6.25184</td>\n",
              "      <td>-75.56359</td>\n",
              "      <td>4</td>\n",
              "    </tr>\n",
              "    <tr>\n",
              "      <th>7080</th>\n",
              "      <td>Modelado predictivo</td>\n",
              "      <td>Libros</td>\n",
              "      <td>57700.0</td>\n",
              "      <td>1300.0</td>\n",
              "      <td>23/11/2021</td>\n",
              "      <td>Lucas Olivera</td>\n",
              "      <td>Medellín</td>\n",
              "      <td>3</td>\n",
              "      <td>Nequi</td>\n",
              "      <td>1</td>\n",
              "      <td>6.25184</td>\n",
              "      <td>-75.56359</td>\n",
              "      <td>4</td>\n",
              "    </tr>\n",
              "    <tr>\n",
              "      <th>7081</th>\n",
              "      <td>Auriculares</td>\n",
              "      <td>Electrónicos</td>\n",
              "      <td>138900.0</td>\n",
              "      <td>5600.0</td>\n",
              "      <td>25/04/2022</td>\n",
              "      <td>Blanca Ramirez</td>\n",
              "      <td>Bogotá</td>\n",
              "      <td>4</td>\n",
              "      <td>Tarjeta de crédito</td>\n",
              "      <td>7</td>\n",
              "      <td>4.60971</td>\n",
              "      <td>-74.08175</td>\n",
              "      <td>4</td>\n",
              "    </tr>\n",
              "    <tr>\n",
              "      <th>...</th>\n",
              "      <td>...</td>\n",
              "      <td>...</td>\n",
              "      <td>...</td>\n",
              "      <td>...</td>\n",
              "      <td>...</td>\n",
              "      <td>...</td>\n",
              "      <td>...</td>\n",
              "      <td>...</td>\n",
              "      <td>...</td>\n",
              "      <td>...</td>\n",
              "      <td>...</td>\n",
              "      <td>...</td>\n",
              "      <td>...</td>\n",
              "    </tr>\n",
              "    <tr>\n",
              "      <th>9430</th>\n",
              "      <td>Mesa de comedor</td>\n",
              "      <td>Muebles</td>\n",
              "      <td>227700.0</td>\n",
              "      <td>12600.0</td>\n",
              "      <td>12/02/2020</td>\n",
              "      <td>Camila Rivera</td>\n",
              "      <td>Medellín</td>\n",
              "      <td>5</td>\n",
              "      <td>Tarjeta de crédito</td>\n",
              "      <td>1</td>\n",
              "      <td>6.25184</td>\n",
              "      <td>-75.56359</td>\n",
              "      <td>4</td>\n",
              "    </tr>\n",
              "    <tr>\n",
              "      <th>9431</th>\n",
              "      <td>Silla de oficina</td>\n",
              "      <td>Muebles</td>\n",
              "      <td>342000.0</td>\n",
              "      <td>18600.0</td>\n",
              "      <td>17/05/2022</td>\n",
              "      <td>Felipe Santos</td>\n",
              "      <td>Bucaramanga</td>\n",
              "      <td>5</td>\n",
              "      <td>Tarjeta de crédito</td>\n",
              "      <td>3</td>\n",
              "      <td>7.12539</td>\n",
              "      <td>-73.11980</td>\n",
              "      <td>4</td>\n",
              "    </tr>\n",
              "    <tr>\n",
              "      <th>9432</th>\n",
              "      <td>Vaso térmico</td>\n",
              "      <td>Deportes y diversión</td>\n",
              "      <td>36700.0</td>\n",
              "      <td>2400.0</td>\n",
              "      <td>03/05/2022</td>\n",
              "      <td>Camila Rivera</td>\n",
              "      <td>Bogotá</td>\n",
              "      <td>5</td>\n",
              "      <td>Tarjeta de crédito</td>\n",
              "      <td>1</td>\n",
              "      <td>4.60971</td>\n",
              "      <td>-74.08175</td>\n",
              "      <td>4</td>\n",
              "    </tr>\n",
              "    <tr>\n",
              "      <th>9433</th>\n",
              "      <td>Set de ollas</td>\n",
              "      <td>Artículos para el hogar</td>\n",
              "      <td>151800.0</td>\n",
              "      <td>8300.0</td>\n",
              "      <td>15/06/2020</td>\n",
              "      <td>Blanca Ramirez</td>\n",
              "      <td>Cali</td>\n",
              "      <td>5</td>\n",
              "      <td>Tarjeta de crédito</td>\n",
              "      <td>1</td>\n",
              "      <td>3.43722</td>\n",
              "      <td>-76.52250</td>\n",
              "      <td>4</td>\n",
              "    </tr>\n",
              "    <tr>\n",
              "      <th>9434</th>\n",
              "      <td>Cuerda para saltar</td>\n",
              "      <td>Deportes y diversión</td>\n",
              "      <td>11200.0</td>\n",
              "      <td>1300.0</td>\n",
              "      <td>17/11/2021</td>\n",
              "      <td>Felipe Santos</td>\n",
              "      <td>Bogotá</td>\n",
              "      <td>5</td>\n",
              "      <td>Tarjeta de crédito</td>\n",
              "      <td>1</td>\n",
              "      <td>4.60971</td>\n",
              "      <td>-74.08175</td>\n",
              "      <td>4</td>\n",
              "    </tr>\n",
              "  </tbody>\n",
              "</table>\n",
              "<p>2358 rows × 13 columns</p>\n",
              "</div>"
            ],
            "text/plain": [
              "                 Producto   Categoría del Producto     Precio  Costo de envío  \\\n",
              "7077         Lavavajillas        Electrodomésticos  1084800.0         56000.0   \n",
              "7078             Cama box                  Muebles   473800.0         25400.0   \n",
              "7079  Balón de baloncesto     Deportes y diversión    23700.0             0.0   \n",
              "7080  Modelado predictivo                   Libros    57700.0          1300.0   \n",
              "7081          Auriculares             Electrónicos   138900.0          5600.0   \n",
              "...                   ...                      ...        ...             ...   \n",
              "9430      Mesa de comedor                  Muebles   227700.0         12600.0   \n",
              "9431     Silla de oficina                  Muebles   342000.0         18600.0   \n",
              "9432         Vaso térmico     Deportes y diversión    36700.0          2400.0   \n",
              "9433         Set de ollas  Artículos para el hogar   151800.0          8300.0   \n",
              "9434   Cuerda para saltar     Deportes y diversión    11200.0          1300.0   \n",
              "\n",
              "     Fecha de Compra         Vendedor Lugar de Compra  Calificación  \\\n",
              "7077      11/11/2022    Rafael Acosta          Bogotá             4   \n",
              "7078      03/01/2020  Izabela de León          Cúcuta             5   \n",
              "7079      25/12/2022    Maria Alfonso        Medellín             5   \n",
              "7080      23/11/2021    Lucas Olivera        Medellín             3   \n",
              "7081      25/04/2022   Blanca Ramirez          Bogotá             4   \n",
              "...              ...              ...             ...           ...   \n",
              "9430      12/02/2020    Camila Rivera        Medellín             5   \n",
              "9431      17/05/2022    Felipe Santos     Bucaramanga             5   \n",
              "9432      03/05/2022    Camila Rivera          Bogotá             5   \n",
              "9433      15/06/2020   Blanca Ramirez            Cali             5   \n",
              "9434      17/11/2021    Felipe Santos          Bogotá             5   \n",
              "\n",
              "          Método de pago  Cantidad de cuotas      lat       lon  Tienda_id  \n",
              "7077  Tarjeta de crédito                   3  4.60971 -74.08175          4  \n",
              "7078  Tarjeta de crédito                   2  7.89391 -72.50782          4  \n",
              "7079               Nequi                   1  6.25184 -75.56359          4  \n",
              "7080               Nequi                   1  6.25184 -75.56359          4  \n",
              "7081  Tarjeta de crédito                   7  4.60971 -74.08175          4  \n",
              "...                  ...                 ...      ...       ...        ...  \n",
              "9430  Tarjeta de crédito                   1  6.25184 -75.56359          4  \n",
              "9431  Tarjeta de crédito                   3  7.12539 -73.11980          4  \n",
              "9432  Tarjeta de crédito                   1  4.60971 -74.08175          4  \n",
              "9433  Tarjeta de crédito                   1  3.43722 -76.52250          4  \n",
              "9434  Tarjeta de crédito                   1  4.60971 -74.08175          4  \n",
              "\n",
              "[2358 rows x 13 columns]"
            ]
          },
          "execution_count": 4,
          "metadata": {},
          "output_type": "execute_result"
        }
      ],
      "source": [
        "datos.tail(2358)"
      ]
    },
    {
      "cell_type": "code",
      "execution_count": 5,
      "metadata": {},
      "outputs": [
        {
          "data": {
            "application/vnd.microsoft.datawrangler.viewer.v0+json": {
              "columns": [
                {
                  "name": "index",
                  "rawType": "int64",
                  "type": "integer"
                },
                {
                  "name": "Tienda_id",
                  "rawType": "int64",
                  "type": "integer"
                },
                {
                  "name": "count",
                  "rawType": "int64",
                  "type": "integer"
                }
              ],
              "ref": "0dc5b854-8851-40ac-ae16-4f85732d8eef",
              "rows": [
                [
                  "0",
                  "1",
                  "2359"
                ],
                [
                  "1",
                  "2",
                  "2359"
                ],
                [
                  "2",
                  "3",
                  "2359"
                ],
                [
                  "3",
                  "4",
                  "2358"
                ]
              ],
              "shape": {
                "columns": 2,
                "rows": 4
              }
            },
            "text/html": [
              "<div>\n",
              "<style scoped>\n",
              "    .dataframe tbody tr th:only-of-type {\n",
              "        vertical-align: middle;\n",
              "    }\n",
              "\n",
              "    .dataframe tbody tr th {\n",
              "        vertical-align: top;\n",
              "    }\n",
              "\n",
              "    .dataframe thead th {\n",
              "        text-align: right;\n",
              "    }\n",
              "</style>\n",
              "<table border=\"1\" class=\"dataframe\">\n",
              "  <thead>\n",
              "    <tr style=\"text-align: right;\">\n",
              "      <th></th>\n",
              "      <th>Tienda_id</th>\n",
              "      <th>count</th>\n",
              "    </tr>\n",
              "  </thead>\n",
              "  <tbody>\n",
              "    <tr>\n",
              "      <th>0</th>\n",
              "      <td>1</td>\n",
              "      <td>2359</td>\n",
              "    </tr>\n",
              "    <tr>\n",
              "      <th>1</th>\n",
              "      <td>2</td>\n",
              "      <td>2359</td>\n",
              "    </tr>\n",
              "    <tr>\n",
              "      <th>2</th>\n",
              "      <td>3</td>\n",
              "      <td>2359</td>\n",
              "    </tr>\n",
              "    <tr>\n",
              "      <th>3</th>\n",
              "      <td>4</td>\n",
              "      <td>2358</td>\n",
              "    </tr>\n",
              "  </tbody>\n",
              "</table>\n",
              "</div>"
            ],
            "text/plain": [
              "   Tienda_id  count\n",
              "0          1   2359\n",
              "1          2   2359\n",
              "2          3   2359\n",
              "3          4   2358"
            ]
          },
          "execution_count": 5,
          "metadata": {},
          "output_type": "execute_result"
        }
      ],
      "source": [
        "datos[['Tienda_id']].value_counts().reset_index()"
      ]
    },
    {
      "cell_type": "markdown",
      "metadata": {},
      "source": [
        "### Verificación de valores nulos\n",
        "Desciripcion: Buscar en cada una de las tienda la existencia de valores faltantes"
      ]
    },
    {
      "cell_type": "code",
      "execution_count": 6,
      "metadata": {},
      "outputs": [],
      "source": [
        "# Analizar si hay valores nulos en cada una de las tiendas\n",
        "valores_nulos = lambda datos: datos.groupby('Tienda_id').apply(lambda x: x.isnull().sum()).transpose()"
      ]
    },
    {
      "cell_type": "code",
      "execution_count": 7,
      "metadata": {},
      "outputs": [
        {
          "name": "stderr",
          "output_type": "stream",
          "text": [
            "C:\\Users\\jesmi\\AppData\\Local\\Temp\\ipykernel_5388\\4224224439.py:2: DeprecationWarning: DataFrameGroupBy.apply operated on the grouping columns. This behavior is deprecated, and in a future version of pandas the grouping columns will be excluded from the operation. Either pass `include_groups=False` to exclude the groupings or explicitly select the grouping columns after groupby to silence this warning.\n",
            "  valores_nulos = lambda datos: datos.groupby('Tienda_id').apply(lambda x: x.isnull().sum()).transpose()\n"
          ]
        },
        {
          "data": {
            "application/vnd.microsoft.datawrangler.viewer.v0+json": {
              "columns": [
                {
                  "name": "index",
                  "rawType": "object",
                  "type": "string"
                },
                {
                  "name": "1",
                  "rawType": "int64",
                  "type": "integer"
                },
                {
                  "name": "2",
                  "rawType": "int64",
                  "type": "integer"
                },
                {
                  "name": "3",
                  "rawType": "int64",
                  "type": "integer"
                },
                {
                  "name": "4",
                  "rawType": "int64",
                  "type": "integer"
                }
              ],
              "ref": "73d3d65c-b7d6-4987-9c93-86fddbcfbf6e",
              "rows": [
                [
                  "Producto",
                  "0",
                  "0",
                  "0",
                  "0"
                ],
                [
                  "Categoría del Producto",
                  "0",
                  "0",
                  "0",
                  "0"
                ],
                [
                  "Precio",
                  "0",
                  "0",
                  "0",
                  "0"
                ],
                [
                  "Costo de envío",
                  "0",
                  "0",
                  "0",
                  "0"
                ],
                [
                  "Fecha de Compra",
                  "0",
                  "0",
                  "0",
                  "0"
                ],
                [
                  "Vendedor",
                  "0",
                  "0",
                  "0",
                  "0"
                ],
                [
                  "Lugar de Compra",
                  "0",
                  "0",
                  "0",
                  "0"
                ],
                [
                  "Calificación",
                  "0",
                  "0",
                  "0",
                  "0"
                ],
                [
                  "Método de pago",
                  "0",
                  "0",
                  "0",
                  "0"
                ],
                [
                  "Cantidad de cuotas",
                  "0",
                  "0",
                  "0",
                  "0"
                ],
                [
                  "lat",
                  "0",
                  "0",
                  "0",
                  "0"
                ],
                [
                  "lon",
                  "0",
                  "0",
                  "0",
                  "0"
                ],
                [
                  "Tienda_id",
                  "0",
                  "0",
                  "0",
                  "0"
                ]
              ],
              "shape": {
                "columns": 4,
                "rows": 13
              }
            },
            "text/html": [
              "<div>\n",
              "<style scoped>\n",
              "    .dataframe tbody tr th:only-of-type {\n",
              "        vertical-align: middle;\n",
              "    }\n",
              "\n",
              "    .dataframe tbody tr th {\n",
              "        vertical-align: top;\n",
              "    }\n",
              "\n",
              "    .dataframe thead th {\n",
              "        text-align: right;\n",
              "    }\n",
              "</style>\n",
              "<table border=\"1\" class=\"dataframe\">\n",
              "  <thead>\n",
              "    <tr style=\"text-align: right;\">\n",
              "      <th>Tienda_id</th>\n",
              "      <th>1</th>\n",
              "      <th>2</th>\n",
              "      <th>3</th>\n",
              "      <th>4</th>\n",
              "    </tr>\n",
              "  </thead>\n",
              "  <tbody>\n",
              "    <tr>\n",
              "      <th>Producto</th>\n",
              "      <td>0</td>\n",
              "      <td>0</td>\n",
              "      <td>0</td>\n",
              "      <td>0</td>\n",
              "    </tr>\n",
              "    <tr>\n",
              "      <th>Categoría del Producto</th>\n",
              "      <td>0</td>\n",
              "      <td>0</td>\n",
              "      <td>0</td>\n",
              "      <td>0</td>\n",
              "    </tr>\n",
              "    <tr>\n",
              "      <th>Precio</th>\n",
              "      <td>0</td>\n",
              "      <td>0</td>\n",
              "      <td>0</td>\n",
              "      <td>0</td>\n",
              "    </tr>\n",
              "    <tr>\n",
              "      <th>Costo de envío</th>\n",
              "      <td>0</td>\n",
              "      <td>0</td>\n",
              "      <td>0</td>\n",
              "      <td>0</td>\n",
              "    </tr>\n",
              "    <tr>\n",
              "      <th>Fecha de Compra</th>\n",
              "      <td>0</td>\n",
              "      <td>0</td>\n",
              "      <td>0</td>\n",
              "      <td>0</td>\n",
              "    </tr>\n",
              "    <tr>\n",
              "      <th>Vendedor</th>\n",
              "      <td>0</td>\n",
              "      <td>0</td>\n",
              "      <td>0</td>\n",
              "      <td>0</td>\n",
              "    </tr>\n",
              "    <tr>\n",
              "      <th>Lugar de Compra</th>\n",
              "      <td>0</td>\n",
              "      <td>0</td>\n",
              "      <td>0</td>\n",
              "      <td>0</td>\n",
              "    </tr>\n",
              "    <tr>\n",
              "      <th>Calificación</th>\n",
              "      <td>0</td>\n",
              "      <td>0</td>\n",
              "      <td>0</td>\n",
              "      <td>0</td>\n",
              "    </tr>\n",
              "    <tr>\n",
              "      <th>Método de pago</th>\n",
              "      <td>0</td>\n",
              "      <td>0</td>\n",
              "      <td>0</td>\n",
              "      <td>0</td>\n",
              "    </tr>\n",
              "    <tr>\n",
              "      <th>Cantidad de cuotas</th>\n",
              "      <td>0</td>\n",
              "      <td>0</td>\n",
              "      <td>0</td>\n",
              "      <td>0</td>\n",
              "    </tr>\n",
              "    <tr>\n",
              "      <th>lat</th>\n",
              "      <td>0</td>\n",
              "      <td>0</td>\n",
              "      <td>0</td>\n",
              "      <td>0</td>\n",
              "    </tr>\n",
              "    <tr>\n",
              "      <th>lon</th>\n",
              "      <td>0</td>\n",
              "      <td>0</td>\n",
              "      <td>0</td>\n",
              "      <td>0</td>\n",
              "    </tr>\n",
              "    <tr>\n",
              "      <th>Tienda_id</th>\n",
              "      <td>0</td>\n",
              "      <td>0</td>\n",
              "      <td>0</td>\n",
              "      <td>0</td>\n",
              "    </tr>\n",
              "  </tbody>\n",
              "</table>\n",
              "</div>"
            ],
            "text/plain": [
              "Tienda_id               1  2  3  4\n",
              "Producto                0  0  0  0\n",
              "Categoría del Producto  0  0  0  0\n",
              "Precio                  0  0  0  0\n",
              "Costo de envío          0  0  0  0\n",
              "Fecha de Compra         0  0  0  0\n",
              "Vendedor                0  0  0  0\n",
              "Lugar de Compra         0  0  0  0\n",
              "Calificación            0  0  0  0\n",
              "Método de pago          0  0  0  0\n",
              "Cantidad de cuotas      0  0  0  0\n",
              "lat                     0  0  0  0\n",
              "lon                     0  0  0  0\n",
              "Tienda_id               0  0  0  0"
            ]
          },
          "execution_count": 7,
          "metadata": {},
          "output_type": "execute_result"
        }
      ],
      "source": [
        "valores_nulos(datos)"
      ]
    },
    {
      "cell_type": "markdown",
      "metadata": {},
      "source": [
        "No se encontraron valores faltantes, por lo que no se debe hacer ningún tratamiento "
      ]
    },
    {
      "cell_type": "markdown",
      "metadata": {
        "id": "X62IW3KFUIYm"
      },
      "source": [
        "# 1. Análisis de facturación"
      ]
    },
    {
      "cell_type": "code",
      "execution_count": 8,
      "metadata": {
        "id": "xykobSftV64I"
      },
      "outputs": [],
      "source": [
        "def suma_datos_por_columna (datos: pd.DataFrame, columna: str) -> pd.DataFrame: \n",
        "\t''' Función para sumar los datos agrupados por tienda, de la columna especificada y ordenarlos de forma descendente.'''\n",
        "\treturn datos.groupby('Tienda_id',as_index=False)[[columna]].sum().sort_values(ascending=False, by=columna)"
      ]
    },
    {
      "cell_type": "code",
      "execution_count": 9,
      "metadata": {
        "id": "KDyr8E71V3m-"
      },
      "outputs": [],
      "source": [
        "ingreso_total = suma_datos_por_columna(datos, 'Precio')"
      ]
    },
    {
      "cell_type": "code",
      "execution_count": 10,
      "metadata": {},
      "outputs": [
        {
          "data": {
            "application/vnd.microsoft.datawrangler.viewer.v0+json": {
              "columns": [
                {
                  "name": "index",
                  "rawType": "int64",
                  "type": "integer"
                },
                {
                  "name": "Tienda_id",
                  "rawType": "int64",
                  "type": "integer"
                },
                {
                  "name": "Ingreso Total",
                  "rawType": "float64",
                  "type": "float"
                }
              ],
              "ref": "affa2e8b-077e-4189-817d-d5455e1914ae",
              "rows": [
                [
                  "0",
                  "1",
                  "1150880400.0"
                ],
                [
                  "1",
                  "2",
                  "1116343500.0"
                ],
                [
                  "2",
                  "3",
                  "1098019600.0"
                ],
                [
                  "3",
                  "4",
                  "1038375700.0"
                ]
              ],
              "shape": {
                "columns": 2,
                "rows": 4
              }
            },
            "text/html": [
              "<div>\n",
              "<style scoped>\n",
              "    .dataframe tbody tr th:only-of-type {\n",
              "        vertical-align: middle;\n",
              "    }\n",
              "\n",
              "    .dataframe tbody tr th {\n",
              "        vertical-align: top;\n",
              "    }\n",
              "\n",
              "    .dataframe thead th {\n",
              "        text-align: right;\n",
              "    }\n",
              "</style>\n",
              "<table border=\"1\" class=\"dataframe\">\n",
              "  <thead>\n",
              "    <tr style=\"text-align: right;\">\n",
              "      <th></th>\n",
              "      <th>Tienda_id</th>\n",
              "      <th>Ingreso Total</th>\n",
              "    </tr>\n",
              "  </thead>\n",
              "  <tbody>\n",
              "    <tr>\n",
              "      <th>0</th>\n",
              "      <td>1</td>\n",
              "      <td>1.150880e+09</td>\n",
              "    </tr>\n",
              "    <tr>\n",
              "      <th>1</th>\n",
              "      <td>2</td>\n",
              "      <td>1.116344e+09</td>\n",
              "    </tr>\n",
              "    <tr>\n",
              "      <th>2</th>\n",
              "      <td>3</td>\n",
              "      <td>1.098020e+09</td>\n",
              "    </tr>\n",
              "    <tr>\n",
              "      <th>3</th>\n",
              "      <td>4</td>\n",
              "      <td>1.038376e+09</td>\n",
              "    </tr>\n",
              "  </tbody>\n",
              "</table>\n",
              "</div>"
            ],
            "text/plain": [
              "   Tienda_id  Ingreso Total\n",
              "0          1   1.150880e+09\n",
              "1          2   1.116344e+09\n",
              "2          3   1.098020e+09\n",
              "3          4   1.038376e+09"
            ]
          },
          "execution_count": 10,
          "metadata": {},
          "output_type": "execute_result"
        }
      ],
      "source": [
        "ingreso_total = ingreso_total.rename(columns={'Precio':'Ingreso Total'})\n",
        "ingreso_total"
      ]
    },
    {
      "cell_type": "markdown",
      "metadata": {
        "id": "2V_vcAPzWZmR"
      },
      "source": [
        "# 2. Ventas por categoría"
      ]
    },
    {
      "cell_type": "code",
      "execution_count": 11,
      "metadata": {},
      "outputs": [],
      "source": [
        "def agrupar_contar (datos:pd.DataFrame, columna:str) -> pd.DataFrame: \n",
        "\t'''Función para agrupar datos por Tienda y contar los valores de la columna especificada.'''\n",
        "\tgrupos = datos.groupby('Tienda_id', as_index=False)[[columna]].value_counts()\n",
        "\t\n",
        "\treturn grupos.sort_values(by=['Tienda_id', 'count'], ascending=[True, False])\n",
        "\n",
        "def elementos_mas_relevantes(datos:pd.DataFrame, columna:str, cantidad:int) -> pd.DataFrame:\n",
        "\tcategorias = agrupar_contar(datos, columna)\n",
        "\treturn categorias.groupby('Tienda_id').head(cantidad)\n",
        "\n",
        "def elementos_menos_relevantes(datos:pd.DataFrame, columna:str, cantidad:int) -> pd.DataFrame:\n",
        "\tcategorias = agrupar_contar(datos, columna)\n",
        "\treturn categorias.groupby('Tienda_id').tail(cantidad)"
      ]
    },
    {
      "cell_type": "code",
      "execution_count": 12,
      "metadata": {},
      "outputs": [],
      "source": [
        "categorias_mas_populares = elementos_mas_relevantes(datos, 'Categoría del Producto', 8)"
      ]
    },
    {
      "cell_type": "code",
      "execution_count": 13,
      "metadata": {},
      "outputs": [
        {
          "data": {
            "application/vnd.microsoft.datawrangler.viewer.v0+json": {
              "columns": [
                {
                  "name": "index",
                  "rawType": "int64",
                  "type": "integer"
                },
                {
                  "name": "Tienda_id",
                  "rawType": "int64",
                  "type": "integer"
                },
                {
                  "name": "Categoría del Producto",
                  "rawType": "object",
                  "type": "string"
                },
                {
                  "name": "count",
                  "rawType": "int64",
                  "type": "integer"
                }
              ],
              "ref": "4c9ecf0e-e8f4-4419-bfb4-a253aa748902",
              "rows": [
                [
                  "0",
                  "1",
                  "Muebles",
                  "465"
                ],
                [
                  "1",
                  "1",
                  "Electrónicos",
                  "448"
                ],
                [
                  "2",
                  "1",
                  "Juguetes",
                  "324"
                ],
                [
                  "3",
                  "1",
                  "Electrodomésticos",
                  "312"
                ],
                [
                  "4",
                  "1",
                  "Deportes y diversión",
                  "284"
                ],
                [
                  "5",
                  "1",
                  "Instrumentos musicales",
                  "182"
                ],
                [
                  "6",
                  "1",
                  "Libros",
                  "173"
                ],
                [
                  "7",
                  "1",
                  "Artículos para el hogar",
                  "171"
                ],
                [
                  "8",
                  "2",
                  "Muebles",
                  "442"
                ],
                [
                  "9",
                  "2",
                  "Electrónicos",
                  "422"
                ],
                [
                  "10",
                  "2",
                  "Juguetes",
                  "313"
                ],
                [
                  "11",
                  "2",
                  "Electrodomésticos",
                  "305"
                ],
                [
                  "12",
                  "2",
                  "Deportes y diversión",
                  "275"
                ],
                [
                  "13",
                  "2",
                  "Instrumentos musicales",
                  "224"
                ],
                [
                  "14",
                  "2",
                  "Libros",
                  "197"
                ],
                [
                  "15",
                  "2",
                  "Artículos para el hogar",
                  "181"
                ],
                [
                  "16",
                  "3",
                  "Muebles",
                  "499"
                ],
                [
                  "17",
                  "3",
                  "Electrónicos",
                  "451"
                ],
                [
                  "18",
                  "3",
                  "Juguetes",
                  "315"
                ],
                [
                  "19",
                  "3",
                  "Electrodomésticos",
                  "278"
                ],
                [
                  "20",
                  "3",
                  "Deportes y diversión",
                  "277"
                ],
                [
                  "21",
                  "3",
                  "Libros",
                  "185"
                ],
                [
                  "22",
                  "3",
                  "Artículos para el hogar",
                  "177"
                ],
                [
                  "23",
                  "3",
                  "Instrumentos musicales",
                  "177"
                ],
                [
                  "24",
                  "4",
                  "Muebles",
                  "480"
                ],
                [
                  "25",
                  "4",
                  "Electrónicos",
                  "451"
                ],
                [
                  "26",
                  "4",
                  "Juguetes",
                  "338"
                ],
                [
                  "27",
                  "4",
                  "Deportes y diversión",
                  "277"
                ],
                [
                  "28",
                  "4",
                  "Electrodomésticos",
                  "254"
                ],
                [
                  "29",
                  "4",
                  "Artículos para el hogar",
                  "201"
                ],
                [
                  "30",
                  "4",
                  "Libros",
                  "187"
                ],
                [
                  "31",
                  "4",
                  "Instrumentos musicales",
                  "170"
                ]
              ],
              "shape": {
                "columns": 3,
                "rows": 32
              }
            },
            "text/html": [
              "<div>\n",
              "<style scoped>\n",
              "    .dataframe tbody tr th:only-of-type {\n",
              "        vertical-align: middle;\n",
              "    }\n",
              "\n",
              "    .dataframe tbody tr th {\n",
              "        vertical-align: top;\n",
              "    }\n",
              "\n",
              "    .dataframe thead th {\n",
              "        text-align: right;\n",
              "    }\n",
              "</style>\n",
              "<table border=\"1\" class=\"dataframe\">\n",
              "  <thead>\n",
              "    <tr style=\"text-align: right;\">\n",
              "      <th></th>\n",
              "      <th>Tienda_id</th>\n",
              "      <th>Categoría del Producto</th>\n",
              "      <th>count</th>\n",
              "    </tr>\n",
              "  </thead>\n",
              "  <tbody>\n",
              "    <tr>\n",
              "      <th>0</th>\n",
              "      <td>1</td>\n",
              "      <td>Muebles</td>\n",
              "      <td>465</td>\n",
              "    </tr>\n",
              "    <tr>\n",
              "      <th>1</th>\n",
              "      <td>1</td>\n",
              "      <td>Electrónicos</td>\n",
              "      <td>448</td>\n",
              "    </tr>\n",
              "    <tr>\n",
              "      <th>2</th>\n",
              "      <td>1</td>\n",
              "      <td>Juguetes</td>\n",
              "      <td>324</td>\n",
              "    </tr>\n",
              "    <tr>\n",
              "      <th>3</th>\n",
              "      <td>1</td>\n",
              "      <td>Electrodomésticos</td>\n",
              "      <td>312</td>\n",
              "    </tr>\n",
              "    <tr>\n",
              "      <th>4</th>\n",
              "      <td>1</td>\n",
              "      <td>Deportes y diversión</td>\n",
              "      <td>284</td>\n",
              "    </tr>\n",
              "    <tr>\n",
              "      <th>5</th>\n",
              "      <td>1</td>\n",
              "      <td>Instrumentos musicales</td>\n",
              "      <td>182</td>\n",
              "    </tr>\n",
              "    <tr>\n",
              "      <th>6</th>\n",
              "      <td>1</td>\n",
              "      <td>Libros</td>\n",
              "      <td>173</td>\n",
              "    </tr>\n",
              "    <tr>\n",
              "      <th>7</th>\n",
              "      <td>1</td>\n",
              "      <td>Artículos para el hogar</td>\n",
              "      <td>171</td>\n",
              "    </tr>\n",
              "    <tr>\n",
              "      <th>8</th>\n",
              "      <td>2</td>\n",
              "      <td>Muebles</td>\n",
              "      <td>442</td>\n",
              "    </tr>\n",
              "    <tr>\n",
              "      <th>9</th>\n",
              "      <td>2</td>\n",
              "      <td>Electrónicos</td>\n",
              "      <td>422</td>\n",
              "    </tr>\n",
              "    <tr>\n",
              "      <th>10</th>\n",
              "      <td>2</td>\n",
              "      <td>Juguetes</td>\n",
              "      <td>313</td>\n",
              "    </tr>\n",
              "    <tr>\n",
              "      <th>11</th>\n",
              "      <td>2</td>\n",
              "      <td>Electrodomésticos</td>\n",
              "      <td>305</td>\n",
              "    </tr>\n",
              "    <tr>\n",
              "      <th>12</th>\n",
              "      <td>2</td>\n",
              "      <td>Deportes y diversión</td>\n",
              "      <td>275</td>\n",
              "    </tr>\n",
              "    <tr>\n",
              "      <th>13</th>\n",
              "      <td>2</td>\n",
              "      <td>Instrumentos musicales</td>\n",
              "      <td>224</td>\n",
              "    </tr>\n",
              "    <tr>\n",
              "      <th>14</th>\n",
              "      <td>2</td>\n",
              "      <td>Libros</td>\n",
              "      <td>197</td>\n",
              "    </tr>\n",
              "    <tr>\n",
              "      <th>15</th>\n",
              "      <td>2</td>\n",
              "      <td>Artículos para el hogar</td>\n",
              "      <td>181</td>\n",
              "    </tr>\n",
              "    <tr>\n",
              "      <th>16</th>\n",
              "      <td>3</td>\n",
              "      <td>Muebles</td>\n",
              "      <td>499</td>\n",
              "    </tr>\n",
              "    <tr>\n",
              "      <th>17</th>\n",
              "      <td>3</td>\n",
              "      <td>Electrónicos</td>\n",
              "      <td>451</td>\n",
              "    </tr>\n",
              "    <tr>\n",
              "      <th>18</th>\n",
              "      <td>3</td>\n",
              "      <td>Juguetes</td>\n",
              "      <td>315</td>\n",
              "    </tr>\n",
              "    <tr>\n",
              "      <th>19</th>\n",
              "      <td>3</td>\n",
              "      <td>Electrodomésticos</td>\n",
              "      <td>278</td>\n",
              "    </tr>\n",
              "    <tr>\n",
              "      <th>20</th>\n",
              "      <td>3</td>\n",
              "      <td>Deportes y diversión</td>\n",
              "      <td>277</td>\n",
              "    </tr>\n",
              "    <tr>\n",
              "      <th>21</th>\n",
              "      <td>3</td>\n",
              "      <td>Libros</td>\n",
              "      <td>185</td>\n",
              "    </tr>\n",
              "    <tr>\n",
              "      <th>22</th>\n",
              "      <td>3</td>\n",
              "      <td>Artículos para el hogar</td>\n",
              "      <td>177</td>\n",
              "    </tr>\n",
              "    <tr>\n",
              "      <th>23</th>\n",
              "      <td>3</td>\n",
              "      <td>Instrumentos musicales</td>\n",
              "      <td>177</td>\n",
              "    </tr>\n",
              "    <tr>\n",
              "      <th>24</th>\n",
              "      <td>4</td>\n",
              "      <td>Muebles</td>\n",
              "      <td>480</td>\n",
              "    </tr>\n",
              "    <tr>\n",
              "      <th>25</th>\n",
              "      <td>4</td>\n",
              "      <td>Electrónicos</td>\n",
              "      <td>451</td>\n",
              "    </tr>\n",
              "    <tr>\n",
              "      <th>26</th>\n",
              "      <td>4</td>\n",
              "      <td>Juguetes</td>\n",
              "      <td>338</td>\n",
              "    </tr>\n",
              "    <tr>\n",
              "      <th>27</th>\n",
              "      <td>4</td>\n",
              "      <td>Deportes y diversión</td>\n",
              "      <td>277</td>\n",
              "    </tr>\n",
              "    <tr>\n",
              "      <th>28</th>\n",
              "      <td>4</td>\n",
              "      <td>Electrodomésticos</td>\n",
              "      <td>254</td>\n",
              "    </tr>\n",
              "    <tr>\n",
              "      <th>29</th>\n",
              "      <td>4</td>\n",
              "      <td>Artículos para el hogar</td>\n",
              "      <td>201</td>\n",
              "    </tr>\n",
              "    <tr>\n",
              "      <th>30</th>\n",
              "      <td>4</td>\n",
              "      <td>Libros</td>\n",
              "      <td>187</td>\n",
              "    </tr>\n",
              "    <tr>\n",
              "      <th>31</th>\n",
              "      <td>4</td>\n",
              "      <td>Instrumentos musicales</td>\n",
              "      <td>170</td>\n",
              "    </tr>\n",
              "  </tbody>\n",
              "</table>\n",
              "</div>"
            ],
            "text/plain": [
              "    Tienda_id   Categoría del Producto  count\n",
              "0           1                  Muebles    465\n",
              "1           1             Electrónicos    448\n",
              "2           1                 Juguetes    324\n",
              "3           1        Electrodomésticos    312\n",
              "4           1     Deportes y diversión    284\n",
              "5           1   Instrumentos musicales    182\n",
              "6           1                   Libros    173\n",
              "7           1  Artículos para el hogar    171\n",
              "8           2                  Muebles    442\n",
              "9           2             Electrónicos    422\n",
              "10          2                 Juguetes    313\n",
              "11          2        Electrodomésticos    305\n",
              "12          2     Deportes y diversión    275\n",
              "13          2   Instrumentos musicales    224\n",
              "14          2                   Libros    197\n",
              "15          2  Artículos para el hogar    181\n",
              "16          3                  Muebles    499\n",
              "17          3             Electrónicos    451\n",
              "18          3                 Juguetes    315\n",
              "19          3        Electrodomésticos    278\n",
              "20          3     Deportes y diversión    277\n",
              "21          3                   Libros    185\n",
              "22          3  Artículos para el hogar    177\n",
              "23          3   Instrumentos musicales    177\n",
              "24          4                  Muebles    480\n",
              "25          4             Electrónicos    451\n",
              "26          4                 Juguetes    338\n",
              "27          4     Deportes y diversión    277\n",
              "28          4        Electrodomésticos    254\n",
              "29          4  Artículos para el hogar    201\n",
              "30          4                   Libros    187\n",
              "31          4   Instrumentos musicales    170"
            ]
          },
          "execution_count": 13,
          "metadata": {},
          "output_type": "execute_result"
        }
      ],
      "source": [
        "categorias_mas_populares"
      ]
    },
    {
      "cell_type": "markdown",
      "metadata": {
        "id": "Rq6tU_xSY3jk"
      },
      "source": [
        "# 3. Calificación promedio de la tienda\n"
      ]
    },
    {
      "cell_type": "code",
      "execution_count": 14,
      "metadata": {
        "id": "bh3jjjJwY5MU"
      },
      "outputs": [],
      "source": [
        "# media_por_tienda = lambda datos, columna: datos.groupby('Tienda_id')[[columna]].mean()\n",
        "def media_por_tienda (datos: pd.DataFrame, columna:str, decimales:int = 2) -> pd.DataFrame:\n",
        "\t'''Función para calcular la media de una columna agrupada por tienda y ordenada de forma descendente.'''\n",
        "\treturn datos.groupby('Tienda_id', as_index=False)[[columna]].mean().round(decimales).sort_values(ascending=False, by=columna)"
      ]
    },
    {
      "cell_type": "code",
      "execution_count": 15,
      "metadata": {
        "id": "I0KkjPoTY88F"
      },
      "outputs": [],
      "source": [
        "media_valoracion = media_por_tienda(datos, 'Calificación', decimales=3)"
      ]
    },
    {
      "cell_type": "code",
      "execution_count": 16,
      "metadata": {},
      "outputs": [
        {
          "data": {
            "application/vnd.microsoft.datawrangler.viewer.v0+json": {
              "columns": [
                {
                  "name": "index",
                  "rawType": "int64",
                  "type": "integer"
                },
                {
                  "name": "Tienda_id",
                  "rawType": "int64",
                  "type": "integer"
                },
                {
                  "name": "Calificación promedio",
                  "rawType": "float64",
                  "type": "float"
                }
              ],
              "ref": "e3d4bc1f-5234-4665-8bc8-4d7c2e52b4fc",
              "rows": [
                [
                  "2",
                  "3",
                  "4.048"
                ],
                [
                  "1",
                  "2",
                  "4.037"
                ],
                [
                  "3",
                  "4",
                  "3.996"
                ],
                [
                  "0",
                  "1",
                  "3.977"
                ]
              ],
              "shape": {
                "columns": 2,
                "rows": 4
              }
            },
            "text/html": [
              "<div>\n",
              "<style scoped>\n",
              "    .dataframe tbody tr th:only-of-type {\n",
              "        vertical-align: middle;\n",
              "    }\n",
              "\n",
              "    .dataframe tbody tr th {\n",
              "        vertical-align: top;\n",
              "    }\n",
              "\n",
              "    .dataframe thead th {\n",
              "        text-align: right;\n",
              "    }\n",
              "</style>\n",
              "<table border=\"1\" class=\"dataframe\">\n",
              "  <thead>\n",
              "    <tr style=\"text-align: right;\">\n",
              "      <th></th>\n",
              "      <th>Tienda_id</th>\n",
              "      <th>Calificación promedio</th>\n",
              "    </tr>\n",
              "  </thead>\n",
              "  <tbody>\n",
              "    <tr>\n",
              "      <th>2</th>\n",
              "      <td>3</td>\n",
              "      <td>4.048</td>\n",
              "    </tr>\n",
              "    <tr>\n",
              "      <th>1</th>\n",
              "      <td>2</td>\n",
              "      <td>4.037</td>\n",
              "    </tr>\n",
              "    <tr>\n",
              "      <th>3</th>\n",
              "      <td>4</td>\n",
              "      <td>3.996</td>\n",
              "    </tr>\n",
              "    <tr>\n",
              "      <th>0</th>\n",
              "      <td>1</td>\n",
              "      <td>3.977</td>\n",
              "    </tr>\n",
              "  </tbody>\n",
              "</table>\n",
              "</div>"
            ],
            "text/plain": [
              "   Tienda_id  Calificación promedio\n",
              "2          3                  4.048\n",
              "1          2                  4.037\n",
              "3          4                  3.996\n",
              "0          1                  3.977"
            ]
          },
          "execution_count": 16,
          "metadata": {},
          "output_type": "execute_result"
        }
      ],
      "source": [
        "media_valoracion = media_valoracion.rename(columns={'Calificación':'Calificación promedio'})\n",
        "media_valoracion"
      ]
    },
    {
      "cell_type": "markdown",
      "metadata": {
        "id": "DmNp1KPBZCm-"
      },
      "source": [
        "# 4. Productos más y menos vendidos"
      ]
    },
    {
      "cell_type": "code",
      "execution_count": 27,
      "metadata": {
        "id": "qoyjqijQZHfF"
      },
      "outputs": [],
      "source": [
        "productos_mas_vendidos = elementos_mas_relevantes(datos, 'Producto', 5)\n",
        "productos_menos_vendidos = elementos_menos_relevantes(datos, 'Producto', 5)"
      ]
    },
    {
      "cell_type": "code",
      "execution_count": 28,
      "metadata": {},
      "outputs": [
        {
          "data": {
            "application/vnd.microsoft.datawrangler.viewer.v0+json": {
              "columns": [
                {
                  "name": "index",
                  "rawType": "int64",
                  "type": "integer"
                },
                {
                  "name": "Tienda_id",
                  "rawType": "int64",
                  "type": "integer"
                },
                {
                  "name": "Producto",
                  "rawType": "object",
                  "type": "string"
                },
                {
                  "name": "count",
                  "rawType": "int64",
                  "type": "integer"
                }
              ],
              "ref": "89154d1c-56fa-481f-bfac-7348b59ddf5d",
              "rows": [
                [
                  "0",
                  "1",
                  "Armario",
                  "60"
                ],
                [
                  "1",
                  "1",
                  "Microondas",
                  "60"
                ],
                [
                  "2",
                  "1",
                  "TV LED UHD 4K",
                  "60"
                ],
                [
                  "3",
                  "1",
                  "Secadora de ropa",
                  "58"
                ],
                [
                  "4",
                  "1",
                  "Bloques de construcción",
                  "56"
                ],
                [
                  "51",
                  "2",
                  "Iniciando en programación",
                  "65"
                ],
                [
                  "52",
                  "2",
                  "Microondas",
                  "62"
                ],
                [
                  "53",
                  "2",
                  "Batería",
                  "61"
                ],
                [
                  "54",
                  "2",
                  "Guitarra acústica",
                  "58"
                ],
                [
                  "55",
                  "2",
                  "Pandereta",
                  "58"
                ],
                [
                  "102",
                  "3",
                  "Kit de bancas",
                  "57"
                ],
                [
                  "103",
                  "3",
                  "Cama king",
                  "56"
                ],
                [
                  "104",
                  "3",
                  "Mesa de comedor",
                  "56"
                ],
                [
                  "105",
                  "3",
                  "Mesa de noche",
                  "55"
                ],
                [
                  "106",
                  "3",
                  "Set de ollas",
                  "55"
                ],
                [
                  "153",
                  "4",
                  "Cama box",
                  "62"
                ],
                [
                  "154",
                  "4",
                  "Cubertería",
                  "59"
                ],
                [
                  "155",
                  "4",
                  "Cama king",
                  "56"
                ],
                [
                  "156",
                  "4",
                  "Dashboards con Power BI",
                  "56"
                ],
                [
                  "157",
                  "4",
                  "Carrito de control remoto",
                  "55"
                ]
              ],
              "shape": {
                "columns": 3,
                "rows": 20
              }
            },
            "text/html": [
              "<div>\n",
              "<style scoped>\n",
              "    .dataframe tbody tr th:only-of-type {\n",
              "        vertical-align: middle;\n",
              "    }\n",
              "\n",
              "    .dataframe tbody tr th {\n",
              "        vertical-align: top;\n",
              "    }\n",
              "\n",
              "    .dataframe thead th {\n",
              "        text-align: right;\n",
              "    }\n",
              "</style>\n",
              "<table border=\"1\" class=\"dataframe\">\n",
              "  <thead>\n",
              "    <tr style=\"text-align: right;\">\n",
              "      <th></th>\n",
              "      <th>Tienda_id</th>\n",
              "      <th>Producto</th>\n",
              "      <th>count</th>\n",
              "    </tr>\n",
              "  </thead>\n",
              "  <tbody>\n",
              "    <tr>\n",
              "      <th>0</th>\n",
              "      <td>1</td>\n",
              "      <td>Armario</td>\n",
              "      <td>60</td>\n",
              "    </tr>\n",
              "    <tr>\n",
              "      <th>1</th>\n",
              "      <td>1</td>\n",
              "      <td>Microondas</td>\n",
              "      <td>60</td>\n",
              "    </tr>\n",
              "    <tr>\n",
              "      <th>2</th>\n",
              "      <td>1</td>\n",
              "      <td>TV LED UHD 4K</td>\n",
              "      <td>60</td>\n",
              "    </tr>\n",
              "    <tr>\n",
              "      <th>3</th>\n",
              "      <td>1</td>\n",
              "      <td>Secadora de ropa</td>\n",
              "      <td>58</td>\n",
              "    </tr>\n",
              "    <tr>\n",
              "      <th>4</th>\n",
              "      <td>1</td>\n",
              "      <td>Bloques de construcción</td>\n",
              "      <td>56</td>\n",
              "    </tr>\n",
              "    <tr>\n",
              "      <th>51</th>\n",
              "      <td>2</td>\n",
              "      <td>Iniciando en programación</td>\n",
              "      <td>65</td>\n",
              "    </tr>\n",
              "    <tr>\n",
              "      <th>52</th>\n",
              "      <td>2</td>\n",
              "      <td>Microondas</td>\n",
              "      <td>62</td>\n",
              "    </tr>\n",
              "    <tr>\n",
              "      <th>53</th>\n",
              "      <td>2</td>\n",
              "      <td>Batería</td>\n",
              "      <td>61</td>\n",
              "    </tr>\n",
              "    <tr>\n",
              "      <th>54</th>\n",
              "      <td>2</td>\n",
              "      <td>Guitarra acústica</td>\n",
              "      <td>58</td>\n",
              "    </tr>\n",
              "    <tr>\n",
              "      <th>55</th>\n",
              "      <td>2</td>\n",
              "      <td>Pandereta</td>\n",
              "      <td>58</td>\n",
              "    </tr>\n",
              "    <tr>\n",
              "      <th>102</th>\n",
              "      <td>3</td>\n",
              "      <td>Kit de bancas</td>\n",
              "      <td>57</td>\n",
              "    </tr>\n",
              "    <tr>\n",
              "      <th>103</th>\n",
              "      <td>3</td>\n",
              "      <td>Cama king</td>\n",
              "      <td>56</td>\n",
              "    </tr>\n",
              "    <tr>\n",
              "      <th>104</th>\n",
              "      <td>3</td>\n",
              "      <td>Mesa de comedor</td>\n",
              "      <td>56</td>\n",
              "    </tr>\n",
              "    <tr>\n",
              "      <th>105</th>\n",
              "      <td>3</td>\n",
              "      <td>Mesa de noche</td>\n",
              "      <td>55</td>\n",
              "    </tr>\n",
              "    <tr>\n",
              "      <th>106</th>\n",
              "      <td>3</td>\n",
              "      <td>Set de ollas</td>\n",
              "      <td>55</td>\n",
              "    </tr>\n",
              "    <tr>\n",
              "      <th>153</th>\n",
              "      <td>4</td>\n",
              "      <td>Cama box</td>\n",
              "      <td>62</td>\n",
              "    </tr>\n",
              "    <tr>\n",
              "      <th>154</th>\n",
              "      <td>4</td>\n",
              "      <td>Cubertería</td>\n",
              "      <td>59</td>\n",
              "    </tr>\n",
              "    <tr>\n",
              "      <th>155</th>\n",
              "      <td>4</td>\n",
              "      <td>Cama king</td>\n",
              "      <td>56</td>\n",
              "    </tr>\n",
              "    <tr>\n",
              "      <th>156</th>\n",
              "      <td>4</td>\n",
              "      <td>Dashboards con Power BI</td>\n",
              "      <td>56</td>\n",
              "    </tr>\n",
              "    <tr>\n",
              "      <th>157</th>\n",
              "      <td>4</td>\n",
              "      <td>Carrito de control remoto</td>\n",
              "      <td>55</td>\n",
              "    </tr>\n",
              "  </tbody>\n",
              "</table>\n",
              "</div>"
            ],
            "text/plain": [
              "     Tienda_id                   Producto  count\n",
              "0            1                    Armario     60\n",
              "1            1                 Microondas     60\n",
              "2            1              TV LED UHD 4K     60\n",
              "3            1           Secadora de ropa     58\n",
              "4            1    Bloques de construcción     56\n",
              "51           2  Iniciando en programación     65\n",
              "52           2                 Microondas     62\n",
              "53           2                    Batería     61\n",
              "54           2          Guitarra acústica     58\n",
              "55           2                  Pandereta     58\n",
              "102          3              Kit de bancas     57\n",
              "103          3                  Cama king     56\n",
              "104          3            Mesa de comedor     56\n",
              "105          3              Mesa de noche     55\n",
              "106          3               Set de ollas     55\n",
              "153          4                   Cama box     62\n",
              "154          4                 Cubertería     59\n",
              "155          4                  Cama king     56\n",
              "156          4    Dashboards con Power BI     56\n",
              "157          4  Carrito de control remoto     55"
            ]
          },
          "execution_count": 28,
          "metadata": {},
          "output_type": "execute_result"
        }
      ],
      "source": [
        "productos_mas_vendidos\n"
      ]
    },
    {
      "cell_type": "code",
      "execution_count": 37,
      "metadata": {},
      "outputs": [],
      "source": [
        "suma_categorias =productos_mas_vendidos.groupby('Tienda_id', as_index=False)[['count']].sum().sort_values(by='count', ascending=False)"
      ]
    },
    {
      "cell_type": "code",
      "execution_count": 30,
      "metadata": {},
      "outputs": [
        {
          "data": {
            "application/vnd.microsoft.datawrangler.viewer.v0+json": {
              "columns": [
                {
                  "name": "index",
                  "rawType": "int64",
                  "type": "integer"
                },
                {
                  "name": "Tienda_id",
                  "rawType": "int64",
                  "type": "integer"
                },
                {
                  "name": "Producto",
                  "rawType": "object",
                  "type": "string"
                },
                {
                  "name": "count",
                  "rawType": "int64",
                  "type": "integer"
                }
              ],
              "ref": "b09abc28-7f78-4631-8ca9-3b52d2f4efad",
              "rows": [
                [
                  "46",
                  "1",
                  "Mochila",
                  "39"
                ],
                [
                  "47",
                  "1",
                  "Pandereta",
                  "36"
                ],
                [
                  "48",
                  "1",
                  "Olla de presión",
                  "35"
                ],
                [
                  "49",
                  "1",
                  "Auriculares con micrófono",
                  "33"
                ],
                [
                  "50",
                  "1",
                  "Celular ABXY",
                  "33"
                ],
                [
                  "97",
                  "2",
                  "Auriculares",
                  "37"
                ],
                [
                  "98",
                  "2",
                  "Sillón",
                  "35"
                ],
                [
                  "99",
                  "2",
                  "Impresora",
                  "34"
                ],
                [
                  "100",
                  "2",
                  "Mesa de comedor",
                  "34"
                ],
                [
                  "101",
                  "2",
                  "Juego de mesa",
                  "32"
                ],
                [
                  "148",
                  "3",
                  "Vaso térmico",
                  "38"
                ],
                [
                  "149",
                  "3",
                  "Microondas",
                  "36"
                ],
                [
                  "150",
                  "3",
                  "Mochila",
                  "36"
                ],
                [
                  "151",
                  "3",
                  "Set de vasos",
                  "36"
                ],
                [
                  "152",
                  "3",
                  "Bloques de construcción",
                  "35"
                ],
                [
                  "199",
                  "4",
                  "Lavadora de ropa",
                  "38"
                ],
                [
                  "200",
                  "4",
                  "Refrigerador",
                  "38"
                ],
                [
                  "201",
                  "4",
                  "Guitarra acústica",
                  "37"
                ],
                [
                  "202",
                  "4",
                  "Armario",
                  "34"
                ],
                [
                  "203",
                  "4",
                  "Guitarra eléctrica",
                  "33"
                ]
              ],
              "shape": {
                "columns": 3,
                "rows": 20
              }
            },
            "text/html": [
              "<div>\n",
              "<style scoped>\n",
              "    .dataframe tbody tr th:only-of-type {\n",
              "        vertical-align: middle;\n",
              "    }\n",
              "\n",
              "    .dataframe tbody tr th {\n",
              "        vertical-align: top;\n",
              "    }\n",
              "\n",
              "    .dataframe thead th {\n",
              "        text-align: right;\n",
              "    }\n",
              "</style>\n",
              "<table border=\"1\" class=\"dataframe\">\n",
              "  <thead>\n",
              "    <tr style=\"text-align: right;\">\n",
              "      <th></th>\n",
              "      <th>Tienda_id</th>\n",
              "      <th>Producto</th>\n",
              "      <th>count</th>\n",
              "    </tr>\n",
              "  </thead>\n",
              "  <tbody>\n",
              "    <tr>\n",
              "      <th>46</th>\n",
              "      <td>1</td>\n",
              "      <td>Mochila</td>\n",
              "      <td>39</td>\n",
              "    </tr>\n",
              "    <tr>\n",
              "      <th>47</th>\n",
              "      <td>1</td>\n",
              "      <td>Pandereta</td>\n",
              "      <td>36</td>\n",
              "    </tr>\n",
              "    <tr>\n",
              "      <th>48</th>\n",
              "      <td>1</td>\n",
              "      <td>Olla de presión</td>\n",
              "      <td>35</td>\n",
              "    </tr>\n",
              "    <tr>\n",
              "      <th>49</th>\n",
              "      <td>1</td>\n",
              "      <td>Auriculares con micrófono</td>\n",
              "      <td>33</td>\n",
              "    </tr>\n",
              "    <tr>\n",
              "      <th>50</th>\n",
              "      <td>1</td>\n",
              "      <td>Celular ABXY</td>\n",
              "      <td>33</td>\n",
              "    </tr>\n",
              "    <tr>\n",
              "      <th>97</th>\n",
              "      <td>2</td>\n",
              "      <td>Auriculares</td>\n",
              "      <td>37</td>\n",
              "    </tr>\n",
              "    <tr>\n",
              "      <th>98</th>\n",
              "      <td>2</td>\n",
              "      <td>Sillón</td>\n",
              "      <td>35</td>\n",
              "    </tr>\n",
              "    <tr>\n",
              "      <th>99</th>\n",
              "      <td>2</td>\n",
              "      <td>Impresora</td>\n",
              "      <td>34</td>\n",
              "    </tr>\n",
              "    <tr>\n",
              "      <th>100</th>\n",
              "      <td>2</td>\n",
              "      <td>Mesa de comedor</td>\n",
              "      <td>34</td>\n",
              "    </tr>\n",
              "    <tr>\n",
              "      <th>101</th>\n",
              "      <td>2</td>\n",
              "      <td>Juego de mesa</td>\n",
              "      <td>32</td>\n",
              "    </tr>\n",
              "    <tr>\n",
              "      <th>148</th>\n",
              "      <td>3</td>\n",
              "      <td>Vaso térmico</td>\n",
              "      <td>38</td>\n",
              "    </tr>\n",
              "    <tr>\n",
              "      <th>149</th>\n",
              "      <td>3</td>\n",
              "      <td>Microondas</td>\n",
              "      <td>36</td>\n",
              "    </tr>\n",
              "    <tr>\n",
              "      <th>150</th>\n",
              "      <td>3</td>\n",
              "      <td>Mochila</td>\n",
              "      <td>36</td>\n",
              "    </tr>\n",
              "    <tr>\n",
              "      <th>151</th>\n",
              "      <td>3</td>\n",
              "      <td>Set de vasos</td>\n",
              "      <td>36</td>\n",
              "    </tr>\n",
              "    <tr>\n",
              "      <th>152</th>\n",
              "      <td>3</td>\n",
              "      <td>Bloques de construcción</td>\n",
              "      <td>35</td>\n",
              "    </tr>\n",
              "    <tr>\n",
              "      <th>199</th>\n",
              "      <td>4</td>\n",
              "      <td>Lavadora de ropa</td>\n",
              "      <td>38</td>\n",
              "    </tr>\n",
              "    <tr>\n",
              "      <th>200</th>\n",
              "      <td>4</td>\n",
              "      <td>Refrigerador</td>\n",
              "      <td>38</td>\n",
              "    </tr>\n",
              "    <tr>\n",
              "      <th>201</th>\n",
              "      <td>4</td>\n",
              "      <td>Guitarra acústica</td>\n",
              "      <td>37</td>\n",
              "    </tr>\n",
              "    <tr>\n",
              "      <th>202</th>\n",
              "      <td>4</td>\n",
              "      <td>Armario</td>\n",
              "      <td>34</td>\n",
              "    </tr>\n",
              "    <tr>\n",
              "      <th>203</th>\n",
              "      <td>4</td>\n",
              "      <td>Guitarra eléctrica</td>\n",
              "      <td>33</td>\n",
              "    </tr>\n",
              "  </tbody>\n",
              "</table>\n",
              "</div>"
            ],
            "text/plain": [
              "     Tienda_id                   Producto  count\n",
              "46           1                    Mochila     39\n",
              "47           1                  Pandereta     36\n",
              "48           1            Olla de presión     35\n",
              "49           1  Auriculares con micrófono     33\n",
              "50           1               Celular ABXY     33\n",
              "97           2                Auriculares     37\n",
              "98           2                     Sillón     35\n",
              "99           2                  Impresora     34\n",
              "100          2            Mesa de comedor     34\n",
              "101          2              Juego de mesa     32\n",
              "148          3               Vaso térmico     38\n",
              "149          3                 Microondas     36\n",
              "150          3                    Mochila     36\n",
              "151          3               Set de vasos     36\n",
              "152          3    Bloques de construcción     35\n",
              "199          4           Lavadora de ropa     38\n",
              "200          4               Refrigerador     38\n",
              "201          4          Guitarra acústica     37\n",
              "202          4                    Armario     34\n",
              "203          4         Guitarra eléctrica     33"
            ]
          },
          "execution_count": 30,
          "metadata": {},
          "output_type": "execute_result"
        }
      ],
      "source": [
        "productos_menos_vendidos"
      ]
    },
    {
      "cell_type": "markdown",
      "metadata": {
        "id": "Fl0cGi3bZKqU"
      },
      "source": [
        "# 5. Envío promedio por tienda"
      ]
    },
    {
      "cell_type": "code",
      "execution_count": 31,
      "metadata": {
        "id": "S2JeaCykZNy9"
      },
      "outputs": [],
      "source": [
        "media_por_envio = media_por_tienda(datos, 'Costo de envío')"
      ]
    },
    {
      "cell_type": "code",
      "execution_count": 32,
      "metadata": {
        "id": "0tSdCie9ZQlt"
      },
      "outputs": [
        {
          "data": {
            "application/vnd.microsoft.datawrangler.viewer.v0+json": {
              "columns": [
                {
                  "name": "index",
                  "rawType": "int64",
                  "type": "integer"
                },
                {
                  "name": "Tienda_id",
                  "rawType": "int64",
                  "type": "integer"
                },
                {
                  "name": "Costo de envío",
                  "rawType": "float64",
                  "type": "float"
                }
              ],
              "ref": "c7bae13f-b3e8-40a6-a96b-30f3db979ce7",
              "rows": [
                [
                  "0",
                  "1",
                  "26018.61"
                ],
                [
                  "1",
                  "2",
                  "25216.24"
                ],
                [
                  "2",
                  "3",
                  "24805.68"
                ],
                [
                  "3",
                  "4",
                  "23459.46"
                ]
              ],
              "shape": {
                "columns": 2,
                "rows": 4
              }
            },
            "text/html": [
              "<div>\n",
              "<style scoped>\n",
              "    .dataframe tbody tr th:only-of-type {\n",
              "        vertical-align: middle;\n",
              "    }\n",
              "\n",
              "    .dataframe tbody tr th {\n",
              "        vertical-align: top;\n",
              "    }\n",
              "\n",
              "    .dataframe thead th {\n",
              "        text-align: right;\n",
              "    }\n",
              "</style>\n",
              "<table border=\"1\" class=\"dataframe\">\n",
              "  <thead>\n",
              "    <tr style=\"text-align: right;\">\n",
              "      <th></th>\n",
              "      <th>Tienda_id</th>\n",
              "      <th>Costo de envío</th>\n",
              "    </tr>\n",
              "  </thead>\n",
              "  <tbody>\n",
              "    <tr>\n",
              "      <th>0</th>\n",
              "      <td>1</td>\n",
              "      <td>26018.61</td>\n",
              "    </tr>\n",
              "    <tr>\n",
              "      <th>1</th>\n",
              "      <td>2</td>\n",
              "      <td>25216.24</td>\n",
              "    </tr>\n",
              "    <tr>\n",
              "      <th>2</th>\n",
              "      <td>3</td>\n",
              "      <td>24805.68</td>\n",
              "    </tr>\n",
              "    <tr>\n",
              "      <th>3</th>\n",
              "      <td>4</td>\n",
              "      <td>23459.46</td>\n",
              "    </tr>\n",
              "  </tbody>\n",
              "</table>\n",
              "</div>"
            ],
            "text/plain": [
              "   Tienda_id  Costo de envío\n",
              "0          1        26018.61\n",
              "1          2        25216.24\n",
              "2          3        24805.68\n",
              "3          4        23459.46"
            ]
          },
          "execution_count": 32,
          "metadata": {},
          "output_type": "execute_result"
        }
      ],
      "source": [
        "media_por_envio"
      ]
    },
    {
      "cell_type": "markdown",
      "metadata": {},
      "source": [
        "# 6. Generando gráficos"
      ]
    },
    {
      "cell_type": "code",
      "execution_count": 33,
      "metadata": {},
      "outputs": [],
      "source": [
        "import matplotlib.pyplot as plt\n",
        "import numpy as np"
      ]
    },
    {
      "cell_type": "code",
      "execution_count": 34,
      "metadata": {},
      "outputs": [
        {
          "data": {
            "image/png": "[encoded data removed]",
            "text/plain": [
              "<Figure size 400x300 with 1 Axes>"
            ]
          },
          "metadata": {},
          "output_type": "display_data"
        }
      ],
      "source": [
        "colors = plt.get_cmap('Blues')(np.linspace(0.2, 0.7, len(list(ingreso_total['Tienda_id']))))\n",
        "\n",
        "def explode_values(data:list) -> tuple:\n",
        "\tindex = data.index(min(data))\n",
        "\texplode = [0] * len(data)\n",
        "\texplode[index] = 0.1\n",
        "\treturn tuple(explode)\n",
        "\t\n",
        "\n",
        "fig, ax = plt.subplots(figsize= (4, 3))\n",
        "\n",
        "ax.pie(\n",
        "\tlist(ingreso_total['Ingreso Total']), \n",
        "\texplode=explode_values(list(ingreso_total['Ingreso Total'])),\n",
        "\tlabels=list(ingreso_total['Tienda_id']),\n",
        "\tautopct='%1.2f%%',\n",
        "\tstartangle=90,\n",
        "\tcolors= colors,\n",
        "\t# radius=1,\n",
        "\tcenter=(4,4),\n",
        "\twedgeprops={\"linewidth\": 1, \"edgecolor\": \"white\"},\n",
        "\tframe=True,\n",
        "\tshadow=True \n",
        ")\n",
        "ax.set_title('Distribución del Ingreso Total por Tienda')\n",
        "ax.axis('off') \n",
        "ax.legend(title='Tienda ID', loc='upper left', bbox_to_anchor=(1, 0, 0.5, 1))\n",
        "plt.show()"
      ]
    },
    {
      "cell_type": "code",
      "execution_count": 35,
      "metadata": {},
      "outputs": [
        {
          "data": {
            "image/png": "[encoded data removed]",
            "text/plain": [
              "<Figure size 1000x300 with 2 Axes>"
            ]
          },
          "metadata": {},
          "output_type": "display_data"
        }
      ],
      "source": [
        "fig, ax = plt.subplots(figsize= (10, 3), nrows=1, ncols=2)\n",
        "\n",
        "ax[0].barh(\n",
        "\tlist(media_valoracion['Tienda_id']),\n",
        "\tlist(media_valoracion['Calificación promedio']),\n",
        "\talign='center',\n",
        "\tcolor='green',\n",
        "\theight=0.5,\n",
        ")\n",
        "ax[0].set_yticks(list(media_valoracion['Tienda_id']))\n",
        "ax[0].bar_label(ax[0].containers[0], fmt='%.3f', padding=-64, color='white')\n",
        "ax[0].set_title('Calificación promedio por Tienda')\n",
        "ax[0].set_ylabel('Tienda ID')\n",
        "ax[0].set_xlabel('Calificación promedio')\n",
        "\n",
        "ax[1].barh(\n",
        "\tlist(media_por_envio['Tienda_id']),\n",
        "\tlist(media_por_envio['Costo de envío']),\n",
        "\talign='center',\n",
        "\tcolor='orange',\n",
        "\theight=0.5,\n",
        ")\n",
        "\n",
        "ax[1].set_yticks(list(media_por_envio['Tienda_id']))\n",
        "ax[1].bar_label(ax[1].containers[0], fmt='%.2f', padding=-64, color='white')\n",
        "ax[1].set_title('Costo de envío promedio por Tienda')\n",
        "ax[1].set_ylabel('Tienda ID')\n",
        "ax[1].set_xlabel('Costo de envío promedio')\n",
        "plt.show()"
      ]
    },
    {
      "cell_type": "code",
      "execution_count": 36,
      "metadata": {},
      "outputs": [
        {
          "data": {
            "image/png": "[encoded data removed]",
            "text/plain": [
              "<Figure size 800x600 with 2 Axes>"
            ]
          },
          "metadata": {},
          "output_type": "display_data"
        }
      ],
      "source": [
        "# Heatmap de categorias más vendidas por tienda\n",
        "fig, ax = plt.subplots(figsize=(8, 6))\n",
        "heatmap_data = categorias_mas_populares.pivot(index='Categoría del Producto', columns='Tienda_id', values='count').fillna(0)\n",
        "im = ax.imshow(heatmap_data, cmap='YlGn')\n",
        "\n",
        "ax.set_xticks(np.arange(heatmap_data.shape[1]))\n",
        "ax.set_yticks(np.arange(heatmap_data.shape[0]))\n",
        "ax.set_xticklabels(heatmap_data.columns)\n",
        "ax.set_yticklabels(heatmap_data.index)\n",
        "\n",
        "plt.setp(ax.get_xticklabels(), rotation=45, ha=\"right\", rotation_mode=\"anchor\")\n",
        "\n",
        "for i in range(heatmap_data.shape[0]):\n",
        "\tfor j in range(heatmap_data.shape[1]):\n",
        "\t\ttext = ax.text(j, i, int(heatmap_data.iat[i, j]), ha=\"center\", va=\"center\", color=\"black\")\n",
        "\n",
        "ax.set_title(\"Categorías más vendidas por Tienda\")\n",
        "fig.colorbar(im, ax=ax)\n",
        "plt.xlabel('Tienda ID')\n",
        "plt.ylabel('Categoría del Producto')\n",
        "plt.show()\n"
      ]
    },
    {
      "cell_type": "code",
      "execution_count": 47,
      "metadata": {},
      "outputs": [
        {
          "data": {
            "image/png": "[encoded data removed]",
            "text/plain": [
              "<Figure size 600x400 with 1 Axes>"
            ]
          },
          "metadata": {},
          "output_type": "display_data"
        }
      ],
      "source": [
        "fig, ax = plt.subplots(figsize=(6, 4))\n",
        "ax.bar(suma_categorias['Tienda_id'], suma_categorias['count'],width=0.5)\n",
        "ax.set_title('Total de Ventas de categorías más populares por Tienda')\n",
        "ax.set_xticks(list(suma_categorias['Tienda_id']))\n",
        "ax.bar_label(ax.containers[0], fmt='%d', padding=-64, color='white')\n",
        "plt.xlabel('Tienda ID')\n",
        "plt.ylabel('Cantidad de productos vendidos')\n",
        "plt.show()"
      ]
    },
    {
      "cell_type": "markdown",
      "metadata": {},
      "source": [
        "# 7. Informe final"
      ]
    },
    {
      "cell_type": "markdown",
      "metadata": {},
      "source": []
    }
  ],
  "metadata": {
    "colab": {
      "provenance": []
    },
    "kernelspec": {
      "display_name": "Python 3",
      "name": "python3"
    },
    "language_info": {
      "codemirror_mode": {
        "name": "ipython",
        "version": 3
      },
      "file_extension": ".py",
      "mimetype": "text/x-python",
      "name": "python",
      "nbconvert_exporter": "python",
      "pygments_lexer": "ipython3",
      "version": "3.12.8"
    }
  },
  "nbformat": 4,
  "nbformat_minor": 0
}
