{
  "cells": [
    {
      "cell_type": "markdown",
      "metadata": {
        "id": "RhEdWd9YUR6H"
      },
      "source": [
        "### Importación de datos\n",
        "\n"
      ]
    },
    {
      "cell_type": "code",
      "execution_count": 1,
      "metadata": {
        "colab": {
          "base_uri": "https://localhost:8080/",
          "height": 206
        },
        "id": "T3EvaeQ_INIL",
        "outputId": "e9c5efe1-82a3-43ab-e8d7-6d01e4fa3514"
      },
      "outputs": [],
      "source": [
        "import pandas as pd\n",
        "\n",
        "url = \"https://raw.githubusercontent.com/alura-es-cursos/challenge1-data-science-latam/refs/heads/main/base-de-datos-challenge1-latam/tienda_1%20.csv\"\n",
        "url2 = \"https://raw.githubusercontent.com/alura-es-cursos/challenge1-data-science-latam/refs/heads/main/base-de-datos-challenge1-latam/tienda_2.csv\"\n",
        "url3 = \"https://raw.githubusercontent.com/alura-es-cursos/challenge1-data-science-latam/refs/heads/main/base-de-datos-challenge1-latam/tienda_3.csv\"\n",
        "url4 = \"https://raw.githubusercontent.com/alura-es-cursos/challenge1-data-science-latam/refs/heads/main/base-de-datos-challenge1-latam/tienda_4.csv\""
      ]
    },
    {
      "cell_type": "code",
      "execution_count": 2,
      "metadata": {},
      "outputs": [],
      "source": [
        "def cargar_datos(urls:list[str]):\n",
        "\t'''Carga y concatena los datos de varias tiendas en un solo dataframe, agregando una columna 'Tienda_id' para identificar la tienda de origen.'''\n",
        "\ttiendas = []\n",
        "\n",
        "\tfor i, url in enumerate(urls):\n",
        "\t\ttienda = pd.read_csv(url)\n",
        "\n",
        "\t\ttienda['Tienda_id'] = i + 1\n",
        "\n",
        "\t\ttiendas.append(tienda)\n",
        "\n",
        "\treturn pd.concat(tiendas, ignore_index=True)"
      ]
    },
    {
      "cell_type": "code",
      "execution_count": 3,
      "metadata": {},
      "outputs": [],
      "source": [
        "urls = [url, url2, url3, url4]\n",
        "\n",
        "datos = cargar_datos(urls)"
      ]
    },
    {
      "cell_type": "code",
      "execution_count": 4,
      "metadata": {},
      "outputs": [
        {
          "data": {
            "application/vnd.microsoft.datawrangler.viewer.v0+json": {
              "columns": [
                {
                  "name": "index",
                  "rawType": "int64",
                  "type": "integer"
                },
                {
                  "name": "Producto",
                  "rawType": "object",
                  "type": "string"
                },
                {
                  "name": "Categoría del Producto",
                  "rawType": "object",
                  "type": "string"
                },
                {
                  "name": "Precio",
                  "rawType": "float64",
                  "type": "float"
                },
                {
                  "name": "Costo de envío",
                  "rawType": "float64",
                  "type": "float"
                },
                {
                  "name": "Fecha de Compra",
                  "rawType": "object",
                  "type": "string"
                },
                {
                  "name": "Vendedor",
                  "rawType": "object",
                  "type": "string"
                },
                {
                  "name": "Lugar de Compra",
                  "rawType": "object",
                  "type": "string"
                },
                {
                  "name": "Calificación",
                  "rawType": "int64",
                  "type": "integer"
                },
                {
                  "name": "Método de pago",
                  "rawType": "object",
                  "type": "string"
                },
                {
                  "name": "Cantidad de cuotas",
                  "rawType": "int64",
                  "type": "integer"
                },
                {
                  "name": "lat",
                  "rawType": "float64",
                  "type": "float"
                },
                {
                  "name": "lon",
                  "rawType": "float64",
                  "type": "float"
                },
                {
                  "name": "Tienda_id",
                  "rawType": "int64",
                  "type": "integer"
                }
              ],
              "ref": "cfa4216b-0cd3-4126-936b-8afb4b3794e0",
              "rows": [
                [
                  "7077",
                  "Lavavajillas",
                  "Electrodomésticos",
                  "1084800.0",
                  "56000.0",
                  "11/11/2022",
                  "Rafael Acosta",
                  "Bogotá",
                  "4",
                  "Tarjeta de crédito",
                  "3",
                  "4.60971",
                  "-74.08175",
                  "4"
                ],
                [
                  "7078",
                  "Cama box",
                  "Muebles",
                  "473800.0",
                  "25400.0",
                  "03/01/2020",
                  "Izabela de León",
                  "Cúcuta",
                  "5",
                  "Tarjeta de crédito",
                  "2",
                  "7.89391",
                  "-72.50782",
                  "4"
                ],
                [
                  "7079",
                  "Balón de baloncesto",
                  "Deportes y diversión",
                  "23700.0",
                  "0.0",
                  "25/12/2022",
                  "Maria Alfonso",
                  "Medellín",
                  "5",
                  "Nequi",
                  "1",
                  "6.25184",
                  "-75.56359",
                  "4"
                ],
                [
                  "7080",
                  "Modelado predictivo",
                  "Libros",
                  "57700.0",
                  "1300.0",
                  "23/11/2021",
                  "Lucas Olivera",
                  "Medellín",
                  "3",
                  "Nequi",
                  "1",
                  "6.25184",
                  "-75.56359",
                  "4"
                ],
                [
                  "7081",
                  "Auriculares",
                  "Electrónicos",
                  "138900.0",
                  "5600.0",
                  "25/04/2022",
                  "Blanca Ramirez",
                  "Bogotá",
                  "4",
                  "Tarjeta de crédito",
                  "7",
                  "4.60971",
                  "-74.08175",
                  "4"
                ],
                [
                  "7082",
                  "Refrigerador",
                  "Electrodomésticos",
                  "1591900.0",
                  "83000.0",
                  "30/05/2020",
                  "Beatriz Morales",
                  "Cartagena",
                  "1",
                  "Tarjeta de crédito",
                  "10",
                  "10.39972",
                  "-75.51444",
                  "4"
                ],
                [
                  "7083",
                  "Guitarra eléctrica",
                  "Instrumentos musicales",
                  "626200.0",
                  "38000.0",
                  "11/07/2021",
                  "Izabela de León",
                  "Medellín",
                  "5",
                  "Tarjeta de crédito",
                  "1",
                  "6.25184",
                  "-75.56359",
                  "4"
                ],
                [
                  "7084",
                  "Auriculares con micrófono",
                  "Electrónicos",
                  "94500.0",
                  "11900.0",
                  "19/02/2022",
                  "Santiago Silva",
                  "Medellín",
                  "4",
                  "Tarjeta de crédito",
                  "2",
                  "6.25184",
                  "-75.56359",
                  "4"
                ],
                [
                  "7085",
                  "Iphone 15",
                  "Electrónicos",
                  "2339000.0",
                  "122700.0",
                  "15/10/2022",
                  "Camila Rivera",
                  "Bogotá",
                  "5",
                  "Tarjeta de crédito",
                  "3",
                  "4.60971",
                  "-74.08175",
                  "4"
                ],
                [
                  "7086",
                  "Mesa de noche",
                  "Muebles",
                  "273300.0",
                  "21900.0",
                  "18/11/2022",
                  "Rafael Acosta",
                  "Bogotá",
                  "1",
                  "Tarjeta de crédito",
                  "3",
                  "4.60971",
                  "-74.08175",
                  "4"
                ],
                [
                  "7087",
                  "Balón de baloncesto",
                  "Deportes y diversión",
                  "68000.0",
                  "6000.0",
                  "03/03/2022",
                  "Felipe Santos",
                  "Manizales",
                  "4",
                  "Nequi",
                  "1",
                  "5.06889",
                  "-75.51738",
                  "4"
                ],
                [
                  "7088",
                  "Muñeca bebé",
                  "Juguetes",
                  "47500.0",
                  "0.0",
                  "16/09/2020",
                  "Pedro Gomez",
                  "Bogotá",
                  "5",
                  "Tarjeta de crédito",
                  "2",
                  "4.60971",
                  "-74.08175",
                  "4"
                ],
                [
                  "7089",
                  "Dashboards con Power BI",
                  "Libros",
                  "36000.0",
                  "9800.0",
                  "21/11/2020",
                  "Blanca Ramirez",
                  "Bogotá",
                  "5",
                  "Tarjeta de crédito",
                  "3",
                  "4.60971",
                  "-74.08175",
                  "4"
                ],
                [
                  "7090",
                  "Silla de oficina",
                  "Muebles",
                  "382900.0",
                  "20800.0",
                  "23/01/2023",
                  "Blanca Ramirez",
                  "Bogotá",
                  "5",
                  "Cupón",
                  "1",
                  "4.60971",
                  "-74.08175",
                  "4"
                ],
                [
                  "7091",
                  "Kit de bancas",
                  "Muebles",
                  "271100.0",
                  "12600.0",
                  "27/02/2023",
                  "Beatriz Morales",
                  "Bogotá",
                  "1",
                  "Tarjeta de crédito",
                  "6",
                  "4.60971",
                  "-74.08175",
                  "4"
                ],
                [
                  "7092",
                  "Kit de bancas",
                  "Muebles",
                  "240300.0",
                  "13000.0",
                  "31/12/2021",
                  "Juan Fernandez",
                  "Leticia",
                  "5",
                  "Nequi",
                  "1",
                  "-4.21528",
                  "-69.94056",
                  "4"
                ],
                [
                  "7093",
                  "Impresora",
                  "Electrónicos",
                  "238300.0",
                  "10900.0",
                  "14/05/2020",
                  "Lucas Olivera",
                  "Bucaramanga",
                  "5",
                  "Tarjeta de crédito",
                  "4",
                  "7.12539",
                  "-73.1198",
                  "4"
                ],
                [
                  "7094",
                  "Set de vasos",
                  "Artículos para el hogar",
                  "23600.0",
                  "1500.0",
                  "29/12/2020",
                  "Mariana Herrera",
                  "Cali",
                  "1",
                  "Tarjeta de crédito",
                  "1",
                  "3.43722",
                  "-76.5225",
                  "4"
                ],
                [
                  "7095",
                  "Mesa de comedor",
                  "Muebles",
                  "319400.0",
                  "17200.0",
                  "21/07/2021",
                  "Juliana Costa",
                  "Riohacha",
                  "5",
                  "Nequi",
                  "1",
                  "11.54444",
                  "-72.90722",
                  "4"
                ],
                [
                  "7096",
                  "Carrito de control remoto",
                  "Juguetes",
                  "74600.0",
                  "4600.0",
                  "11/03/2020",
                  "Beatriz Morales",
                  "Cartagena",
                  "5",
                  "Tarjeta de crédito",
                  "4",
                  "10.39972",
                  "-75.51444",
                  "4"
                ],
                [
                  "7097",
                  "Cuerda para saltar",
                  "Deportes y diversión",
                  "25500.0",
                  "0.0",
                  "27/05/2021",
                  "Juan Fernandez",
                  "Bogotá",
                  "5",
                  "Nequi",
                  "1",
                  "4.60971",
                  "-74.08175",
                  "4"
                ],
                [
                  "7098",
                  "Estufa",
                  "Electrodomésticos",
                  "826700.0",
                  "42200.0",
                  "09/11/2020",
                  "Juan Fernandez",
                  "Cali",
                  "5",
                  "Tarjeta de crédito",
                  "4",
                  "3.43722",
                  "-76.5225",
                  "4"
                ],
                [
                  "7099",
                  "Cama king",
                  "Muebles",
                  "506200.0",
                  "25100.0",
                  "23/02/2022",
                  "Pedro Gomez",
                  "Pasto",
                  "5",
                  "Tarjeta de crédito",
                  "2",
                  "1.21361",
                  "-77.28111",
                  "4"
                ],
                [
                  "7100",
                  "Carrito de control remoto",
                  "Juguetes",
                  "60100.0",
                  "1400.0",
                  "12/07/2020",
                  "Felipe Santos",
                  "Bogotá",
                  "5",
                  "Tarjeta de crédito",
                  "1",
                  "4.60971",
                  "-74.08175",
                  "4"
                ],
                [
                  "7101",
                  "Cama box",
                  "Muebles",
                  "644700.0",
                  "40200.0",
                  "11/08/2022",
                  "Ángel Rodriguez",
                  "Bogotá",
                  "5",
                  "Tarjeta de crédito",
                  "4",
                  "4.60971",
                  "-74.08175",
                  "4"
                ],
                [
                  "7102",
                  "Kit de bancas",
                  "Muebles",
                  "244500.0",
                  "13400.0",
                  "29/04/2022",
                  "Ángel Rodriguez",
                  "Bogotá",
                  "5",
                  "Nequi",
                  "1",
                  "4.60971",
                  "-74.08175",
                  "4"
                ],
                [
                  "7103",
                  "Balón de voleibol",
                  "Deportes y diversión",
                  "46300.0",
                  "3100.0",
                  "17/07/2022",
                  "Beatriz Morales",
                  "Bogotá",
                  "1",
                  "Tarjeta de crédito",
                  "4",
                  "4.60971",
                  "-74.08175",
                  "4"
                ],
                [
                  "7104",
                  "Mesa de comedor",
                  "Muebles",
                  "228000.0",
                  "14500.0",
                  "06/11/2021",
                  "Lucas Olivera",
                  "Bogotá",
                  "1",
                  "Nequi",
                  "1",
                  "4.60971",
                  "-74.08175",
                  "4"
                ],
                [
                  "7105",
                  "Cama box",
                  "Muebles",
                  "744100.0",
                  "37800.0",
                  "31/03/2020",
                  "Pedro Gomez",
                  "Medellín",
                  "5",
                  "Tarjeta de crédito",
                  "1",
                  "6.25184",
                  "-75.56359",
                  "4"
                ],
                [
                  "7106",
                  "Secadora de ropa",
                  "Electrodomésticos",
                  "925900.0",
                  "47500.0",
                  "08/02/2022",
                  "Blanca Ramirez",
                  "Medellín",
                  "1",
                  "Tarjeta de crédito",
                  "3",
                  "6.25184",
                  "-75.56359",
                  "4"
                ],
                [
                  "7107",
                  "Dashboards con Power BI",
                  "Libros",
                  "34600.0",
                  "0.0",
                  "30/10/2021",
                  "Camila Rivera",
                  "Bogotá",
                  "4",
                  "Tarjeta de crédito",
                  "1",
                  "4.60971",
                  "-74.08175",
                  "4"
                ],
                [
                  "7108",
                  "Modelado predictivo",
                  "Libros",
                  "62600.0",
                  "3500.0",
                  "12/06/2022",
                  "Pedro Gomez",
                  "Pereira",
                  "5",
                  "Tarjeta de crédito",
                  "4",
                  "4.81333",
                  "-75.69611",
                  "4"
                ],
                [
                  "7109",
                  "Mesa de comedor",
                  "Muebles",
                  "345900.0",
                  "18600.0",
                  "10/08/2022",
                  "Blanca Ramirez",
                  "Bogotá",
                  "5",
                  "Nequi",
                  "1",
                  "4.60971",
                  "-74.08175",
                  "4"
                ],
                [
                  "7110",
                  "Dinosaurio Rex",
                  "Juguetes",
                  "17500.0",
                  "1300.0",
                  "28/08/2020",
                  "Blanca Ramirez",
                  "Bogotá",
                  "4",
                  "Tarjeta de crédito",
                  "4",
                  "4.60971",
                  "-74.08175",
                  "4"
                ],
                [
                  "7111",
                  "Cama king",
                  "Muebles",
                  "785600.0",
                  "46500.0",
                  "19/06/2022",
                  "Blanca Ramirez",
                  "Bogotá",
                  "5",
                  "Tarjeta de crédito",
                  "4",
                  "4.60971",
                  "-74.08175",
                  "4"
                ],
                [
                  "7112",
                  "TV LED UHD 4K",
                  "Electrónicos",
                  "2340100.0",
                  "122800.0",
                  "22/04/2020",
                  "Juliana Costa",
                  "Pasto",
                  "5",
                  "Tarjeta de crédito",
                  "3",
                  "1.21361",
                  "-77.28111",
                  "4"
                ],
                [
                  "7113",
                  "Carrito de control remoto",
                  "Juguetes",
                  "61400.0",
                  "1500.0",
                  "08/02/2023",
                  "Juan Fernandez",
                  "Barranquilla",
                  "5",
                  "Tarjeta de crédito",
                  "1",
                  "10.96854",
                  "-74.78132",
                  "4"
                ],
                [
                  "7114",
                  "Vaso térmico",
                  "Deportes y diversión",
                  "31900.0",
                  "1900.0",
                  "15/08/2021",
                  "Beatriz Morales",
                  "Bogotá",
                  "4",
                  "Tarjeta de crédito",
                  "2",
                  "4.60971",
                  "-74.08175",
                  "4"
                ],
                [
                  "7115",
                  "Smart TV",
                  "Electrónicos",
                  "1401300.0",
                  "75000.0",
                  "20/03/2023",
                  "Rafael Acosta",
                  "Medellín",
                  "5",
                  "Tarjeta de crédito",
                  "3",
                  "6.25184",
                  "-75.56359",
                  "4"
                ],
                [
                  "7116",
                  "TV LED UHD 4K",
                  "Electrónicos",
                  "2008100.0",
                  "105100.0",
                  "08/08/2020",
                  "Juan Fernandez",
                  "Riohacha",
                  "1",
                  "Tarjeta de crédito",
                  "2",
                  "11.54444",
                  "-72.90722",
                  "4"
                ],
                [
                  "7117",
                  "Carrito de control remoto",
                  "Juguetes",
                  "81800.0",
                  "2500.0",
                  "14/03/2022",
                  "Lucas Olivera",
                  "Medellín",
                  "3",
                  "Tarjeta de crédito",
                  "10",
                  "6.25184",
                  "-75.56359",
                  "4"
                ],
                [
                  "7118",
                  "Cama box",
                  "Muebles",
                  "545200.0",
                  "29400.0",
                  "16/11/2022",
                  "Pedro Gomez",
                  "Santa Marta",
                  "4",
                  "Tarjeta de crédito",
                  "2",
                  "11.24079",
                  "-74.19904",
                  "4"
                ],
                [
                  "7119",
                  "Mesa de centro",
                  "Muebles",
                  "142900.0",
                  "7800.0",
                  "23/05/2022",
                  "Juan Fernandez",
                  "Bogotá",
                  "5",
                  "Nequi",
                  "1",
                  "4.60971",
                  "-74.08175",
                  "4"
                ],
                [
                  "7120",
                  "Tablet ABXY",
                  "Electrónicos",
                  "1060900.0",
                  "58900.0",
                  "30/04/2021",
                  "Camila Rivera",
                  "Medellín",
                  "5",
                  "Tarjeta de crédito",
                  "5",
                  "6.25184",
                  "-75.56359",
                  "4"
                ],
                [
                  "7121",
                  "Dinosaurio Rex",
                  "Juguetes",
                  "18800.0",
                  "1500.0",
                  "08/06/2020",
                  "Pedro Gomez",
                  "Bogotá",
                  "1",
                  "Tarjeta de crédito",
                  "1",
                  "4.60971",
                  "-74.08175",
                  "4"
                ],
                [
                  "7122",
                  "Cama box",
                  "Muebles",
                  "663800.0",
                  "33500.0",
                  "04/01/2020",
                  "Lucas Olivera",
                  "Cali",
                  "4",
                  "Tarjeta de crédito",
                  "3",
                  "3.43722",
                  "-76.5225",
                  "4"
                ],
                [
                  "7123",
                  "Mesa de comedor",
                  "Muebles",
                  "277700.0",
                  "15500.0",
                  "19/08/2022",
                  "Blanca Ramirez",
                  "Bogotá",
                  "4",
                  "Tarjeta de crédito",
                  "7",
                  "4.60971",
                  "-74.08175",
                  "4"
                ],
                [
                  "7124",
                  "Dinosaurio Rex",
                  "Juguetes",
                  "20100.0",
                  "1300.0",
                  "01/12/2022",
                  "Juan Fernandez",
                  "Cali",
                  "5",
                  "Nequi",
                  "1",
                  "3.43722",
                  "-76.5225",
                  "4"
                ],
                [
                  "7125",
                  "Auriculares con micrófono",
                  "Electrónicos",
                  "148300.0",
                  "8600.0",
                  "13/10/2021",
                  "Felipe Santos",
                  "Pasto",
                  "5",
                  "Tarjeta de crédito",
                  "10",
                  "1.21361",
                  "-77.28111",
                  "4"
                ],
                [
                  "7126",
                  "Lavavajillas",
                  "Electrodomésticos",
                  "1460200.0",
                  "75900.0",
                  "20/03/2020",
                  "Pedro Gomez",
                  "Bogotá",
                  "5",
                  "Tarjeta de débito",
                  "1",
                  "4.60971",
                  "-74.08175",
                  "4"
                ]
              ],
              "shape": {
                "columns": 13,
                "rows": 2358
              }
            },
            "text/html": [
              "<div>\n",
              "<style scoped>\n",
              "    .dataframe tbody tr th:only-of-type {\n",
              "        vertical-align: middle;\n",
              "    }\n",
              "\n",
              "    .dataframe tbody tr th {\n",
              "        vertical-align: top;\n",
              "    }\n",
              "\n",
              "    .dataframe thead th {\n",
              "        text-align: right;\n",
              "    }\n",
              "</style>\n",
              "<table border=\"1\" class=\"dataframe\">\n",
              "  <thead>\n",
              "    <tr style=\"text-align: right;\">\n",
              "      <th></th>\n",
              "      <th>Producto</th>\n",
              "      <th>Categoría del Producto</th>\n",
              "      <th>Precio</th>\n",
              "      <th>Costo de envío</th>\n",
              "      <th>Fecha de Compra</th>\n",
              "      <th>Vendedor</th>\n",
              "      <th>Lugar de Compra</th>\n",
              "      <th>Calificación</th>\n",
              "      <th>Método de pago</th>\n",
              "      <th>Cantidad de cuotas</th>\n",
              "      <th>lat</th>\n",
              "      <th>lon</th>\n",
              "      <th>Tienda_id</th>\n",
              "    </tr>\n",
              "  </thead>\n",
              "  <tbody>\n",
              "    <tr>\n",
              "      <th>7077</th>\n",
              "      <td>Lavavajillas</td>\n",
              "      <td>Electrodomésticos</td>\n",
              "      <td>1084800.0</td>\n",
              "      <td>56000.0</td>\n",
              "      <td>11/11/2022</td>\n",
              "      <td>Rafael Acosta</td>\n",
              "      <td>Bogotá</td>\n",
              "      <td>4</td>\n",
              "      <td>Tarjeta de crédito</td>\n",
              "      <td>3</td>\n",
              "      <td>4.60971</td>\n",
              "      <td>-74.08175</td>\n",
              "      <td>4</td>\n",
              "    </tr>\n",
              "    <tr>\n",
              "      <th>7078</th>\n",
              "      <td>Cama box</td>\n",
              "      <td>Muebles</td>\n",
              "      <td>473800.0</td>\n",
              "      <td>25400.0</td>\n",
              "      <td>03/01/2020</td>\n",
              "      <td>Izabela de León</td>\n",
              "      <td>Cúcuta</td>\n",
              "      <td>5</td>\n",
              "      <td>Tarjeta de crédito</td>\n",
              "      <td>2</td>\n",
              "      <td>7.89391</td>\n",
              "      <td>-72.50782</td>\n",
              "      <td>4</td>\n",
              "    </tr>\n",
              "    <tr>\n",
              "      <th>7079</th>\n",
              "      <td>Balón de baloncesto</td>\n",
              "      <td>Deportes y diversión</td>\n",
              "      <td>23700.0</td>\n",
              "      <td>0.0</td>\n",
              "      <td>25/12/2022</td>\n",
              "      <td>Maria Alfonso</td>\n",
              "      <td>Medellín</td>\n",
              "      <td>5</td>\n",
              "      <td>Nequi</td>\n",
              "      <td>1</td>\n",
              "      <td>6.25184</td>\n",
              "      <td>-75.56359</td>\n",
              "      <td>4</td>\n",
              "    </tr>\n",
              "    <tr>\n",
              "      <th>7080</th>\n",
              "      <td>Modelado predictivo</td>\n",
              "      <td>Libros</td>\n",
              "      <td>57700.0</td>\n",
              "      <td>1300.0</td>\n",
              "      <td>23/11/2021</td>\n",
              "      <td>Lucas Olivera</td>\n",
              "      <td>Medellín</td>\n",
              "      <td>3</td>\n",
              "      <td>Nequi</td>\n",
              "      <td>1</td>\n",
              "      <td>6.25184</td>\n",
              "      <td>-75.56359</td>\n",
              "      <td>4</td>\n",
              "    </tr>\n",
              "    <tr>\n",
              "      <th>7081</th>\n",
              "      <td>Auriculares</td>\n",
              "      <td>Electrónicos</td>\n",
              "      <td>138900.0</td>\n",
              "      <td>5600.0</td>\n",
              "      <td>25/04/2022</td>\n",
              "      <td>Blanca Ramirez</td>\n",
              "      <td>Bogotá</td>\n",
              "      <td>4</td>\n",
              "      <td>Tarjeta de crédito</td>\n",
              "      <td>7</td>\n",
              "      <td>4.60971</td>\n",
              "      <td>-74.08175</td>\n",
              "      <td>4</td>\n",
              "    </tr>\n",
              "    <tr>\n",
              "      <th>...</th>\n",
              "      <td>...</td>\n",
              "      <td>...</td>\n",
              "      <td>...</td>\n",
              "      <td>...</td>\n",
              "      <td>...</td>\n",
              "      <td>...</td>\n",
              "      <td>...</td>\n",
              "      <td>...</td>\n",
              "      <td>...</td>\n",
              "      <td>...</td>\n",
              "      <td>...</td>\n",
              "      <td>...</td>\n",
              "      <td>...</td>\n",
              "    </tr>\n",
              "    <tr>\n",
              "      <th>9430</th>\n",
              "      <td>Mesa de comedor</td>\n",
              "      <td>Muebles</td>\n",
              "      <td>227700.0</td>\n",
              "      <td>12600.0</td>\n",
              "      <td>12/02/2020</td>\n",
              "      <td>Camila Rivera</td>\n",
              "      <td>Medellín</td>\n",
              "      <td>5</td>\n",
              "      <td>Tarjeta de crédito</td>\n",
              "      <td>1</td>\n",
              "      <td>6.25184</td>\n",
              "      <td>-75.56359</td>\n",
              "      <td>4</td>\n",
              "    </tr>\n",
              "    <tr>\n",
              "      <th>9431</th>\n",
              "      <td>Silla de oficina</td>\n",
              "      <td>Muebles</td>\n",
              "      <td>342000.0</td>\n",
              "      <td>18600.0</td>\n",
              "      <td>17/05/2022</td>\n",
              "      <td>Felipe Santos</td>\n",
              "      <td>Bucaramanga</td>\n",
              "      <td>5</td>\n",
              "      <td>Tarjeta de crédito</td>\n",
              "      <td>3</td>\n",
              "      <td>7.12539</td>\n",
              "      <td>-73.11980</td>\n",
              "      <td>4</td>\n",
              "    </tr>\n",
              "    <tr>\n",
              "      <th>9432</th>\n",
              "      <td>Vaso térmico</td>\n",
              "      <td>Deportes y diversión</td>\n",
              "      <td>36700.0</td>\n",
              "      <td>2400.0</td>\n",
              "      <td>03/05/2022</td>\n",
              "      <td>Camila Rivera</td>\n",
              "      <td>Bogotá</td>\n",
              "      <td>5</td>\n",
              "      <td>Tarjeta de crédito</td>\n",
              "      <td>1</td>\n",
              "      <td>4.60971</td>\n",
              "      <td>-74.08175</td>\n",
              "      <td>4</td>\n",
              "    </tr>\n",
              "    <tr>\n",
              "      <th>9433</th>\n",
              "      <td>Set de ollas</td>\n",
              "      <td>Artículos para el hogar</td>\n",
              "      <td>151800.0</td>\n",
              "      <td>8300.0</td>\n",
              "      <td>15/06/2020</td>\n",
              "      <td>Blanca Ramirez</td>\n",
              "      <td>Cali</td>\n",
              "      <td>5</td>\n",
              "      <td>Tarjeta de crédito</td>\n",
              "      <td>1</td>\n",
              "      <td>3.43722</td>\n",
              "      <td>-76.52250</td>\n",
              "      <td>4</td>\n",
              "    </tr>\n",
              "    <tr>\n",
              "      <th>9434</th>\n",
              "      <td>Cuerda para saltar</td>\n",
              "      <td>Deportes y diversión</td>\n",
              "      <td>11200.0</td>\n",
              "      <td>1300.0</td>\n",
              "      <td>17/11/2021</td>\n",
              "      <td>Felipe Santos</td>\n",
              "      <td>Bogotá</td>\n",
              "      <td>5</td>\n",
              "      <td>Tarjeta de crédito</td>\n",
              "      <td>1</td>\n",
              "      <td>4.60971</td>\n",
              "      <td>-74.08175</td>\n",
              "      <td>4</td>\n",
              "    </tr>\n",
              "  </tbody>\n",
              "</table>\n",
              "<p>2358 rows × 13 columns</p>\n",
              "</div>"
            ],
            "text/plain": [
              "                 Producto   Categoría del Producto     Precio  Costo de envío  \\\n",
              "7077         Lavavajillas        Electrodomésticos  1084800.0         56000.0   \n",
              "7078             Cama box                  Muebles   473800.0         25400.0   \n",
              "7079  Balón de baloncesto     Deportes y diversión    23700.0             0.0   \n",
              "7080  Modelado predictivo                   Libros    57700.0          1300.0   \n",
              "7081          Auriculares             Electrónicos   138900.0          5600.0   \n",
              "...                   ...                      ...        ...             ...   \n",
              "9430      Mesa de comedor                  Muebles   227700.0         12600.0   \n",
              "9431     Silla de oficina                  Muebles   342000.0         18600.0   \n",
              "9432         Vaso térmico     Deportes y diversión    36700.0          2400.0   \n",
              "9433         Set de ollas  Artículos para el hogar   151800.0          8300.0   \n",
              "9434   Cuerda para saltar     Deportes y diversión    11200.0          1300.0   \n",
              "\n",
              "     Fecha de Compra         Vendedor Lugar de Compra  Calificación  \\\n",
              "7077      11/11/2022    Rafael Acosta          Bogotá             4   \n",
              "7078      03/01/2020  Izabela de León          Cúcuta             5   \n",
              "7079      25/12/2022    Maria Alfonso        Medellín             5   \n",
              "7080      23/11/2021    Lucas Olivera        Medellín             3   \n",
              "7081      25/04/2022   Blanca Ramirez          Bogotá             4   \n",
              "...              ...              ...             ...           ...   \n",
              "9430      12/02/2020    Camila Rivera        Medellín             5   \n",
              "9431      17/05/2022    Felipe Santos     Bucaramanga             5   \n",
              "9432      03/05/2022    Camila Rivera          Bogotá             5   \n",
              "9433      15/06/2020   Blanca Ramirez            Cali             5   \n",
              "9434      17/11/2021    Felipe Santos          Bogotá             5   \n",
              "\n",
              "          Método de pago  Cantidad de cuotas      lat       lon  Tienda_id  \n",
              "7077  Tarjeta de crédito                   3  4.60971 -74.08175          4  \n",
              "7078  Tarjeta de crédito                   2  7.89391 -72.50782          4  \n",
              "7079               Nequi                   1  6.25184 -75.56359          4  \n",
              "7080               Nequi                   1  6.25184 -75.56359          4  \n",
              "7081  Tarjeta de crédito                   7  4.60971 -74.08175          4  \n",
              "...                  ...                 ...      ...       ...        ...  \n",
              "9430  Tarjeta de crédito                   1  6.25184 -75.56359          4  \n",
              "9431  Tarjeta de crédito                   3  7.12539 -73.11980          4  \n",
              "9432  Tarjeta de crédito                   1  4.60971 -74.08175          4  \n",
              "9433  Tarjeta de crédito                   1  3.43722 -76.52250          4  \n",
              "9434  Tarjeta de crédito                   1  4.60971 -74.08175          4  \n",
              "\n",
              "[2358 rows x 13 columns]"
            ]
          },
          "execution_count": 4,
          "metadata": {},
          "output_type": "execute_result"
        }
      ],
      "source": [
        "datos.tail(2358)"
      ]
    },
    {
      "cell_type": "code",
      "execution_count": 5,
      "metadata": {},
      "outputs": [
        {
          "data": {
            "application/vnd.microsoft.datawrangler.viewer.v0+json": {
              "columns": [
                {
                  "name": "Tienda_id",
                  "rawType": "int64",
                  "type": "integer"
                },
                {
                  "name": "count",
                  "rawType": "int64",
                  "type": "integer"
                }
              ],
              "ref": "8139e81b-bcd4-4479-aa3a-404de794b167",
              "rows": [
                [
                  "1",
                  "2359"
                ],
                [
                  "2",
                  "2359"
                ],
                [
                  "3",
                  "2359"
                ],
                [
                  "4",
                  "2358"
                ]
              ],
              "shape": {
                "columns": 1,
                "rows": 4
              }
            },
            "text/plain": [
              "Tienda_id\n",
              "1    2359\n",
              "2    2359\n",
              "3    2359\n",
              "4    2358\n",
              "Name: count, dtype: int64"
            ]
          },
          "execution_count": 5,
          "metadata": {},
          "output_type": "execute_result"
        }
      ],
      "source": [
        "datos['Tienda_id'].value_counts()"
      ]
    },
    {
      "cell_type": "markdown",
      "metadata": {},
      "source": [
        "### Verificación de valores nulos\n",
        "Desciripcion: Buscar en cada una de las tienda la existencia de valores faltantes"
      ]
    },
    {
      "cell_type": "code",
      "execution_count": 6,
      "metadata": {},
      "outputs": [],
      "source": [
        "# Analizar si hay valores nulos en cada una de las tiendas\n",
        "valores_nulos = lambda datos: datos.groupby('Tienda_id').apply(lambda x: x.isnull().sum()).transpose()"
      ]
    },
    {
      "cell_type": "code",
      "execution_count": 7,
      "metadata": {},
      "outputs": [
        {
          "name": "stderr",
          "output_type": "stream",
          "text": [
            "C:\\Users\\jesmi\\AppData\\Local\\Temp\\ipykernel_25920\\4224224439.py:2: DeprecationWarning: DataFrameGroupBy.apply operated on the grouping columns. This behavior is deprecated, and in a future version of pandas the grouping columns will be excluded from the operation. Either pass `include_groups=False` to exclude the groupings or explicitly select the grouping columns after groupby to silence this warning.\n",
            "  valores_nulos = lambda datos: datos.groupby('Tienda_id').apply(lambda x: x.isnull().sum()).transpose()\n"
          ]
        },
        {
          "data": {
            "application/vnd.microsoft.datawrangler.viewer.v0+json": {
              "columns": [
                {
                  "name": "index",
                  "rawType": "object",
                  "type": "string"
                },
                {
                  "name": "1",
                  "rawType": "int64",
                  "type": "integer"
                },
                {
                  "name": "2",
                  "rawType": "int64",
                  "type": "integer"
                },
                {
                  "name": "3",
                  "rawType": "int64",
                  "type": "integer"
                },
                {
                  "name": "4",
                  "rawType": "int64",
                  "type": "integer"
                }
              ],
              "ref": "d163bd94-6736-4c81-b09f-6c366d5b6b6a",
              "rows": [
                [
                  "Producto",
                  "0",
                  "0",
                  "0",
                  "0"
                ],
                [
                  "Categoría del Producto",
                  "0",
                  "0",
                  "0",
                  "0"
                ],
                [
                  "Precio",
                  "0",
                  "0",
                  "0",
                  "0"
                ],
                [
                  "Costo de envío",
                  "0",
                  "0",
                  "0",
                  "0"
                ],
                [
                  "Fecha de Compra",
                  "0",
                  "0",
                  "0",
                  "0"
                ],
                [
                  "Vendedor",
                  "0",
                  "0",
                  "0",
                  "0"
                ],
                [
                  "Lugar de Compra",
                  "0",
                  "0",
                  "0",
                  "0"
                ],
                [
                  "Calificación",
                  "0",
                  "0",
                  "0",
                  "0"
                ],
                [
                  "Método de pago",
                  "0",
                  "0",
                  "0",
                  "0"
                ],
                [
                  "Cantidad de cuotas",
                  "0",
                  "0",
                  "0",
                  "0"
                ],
                [
                  "lat",
                  "0",
                  "0",
                  "0",
                  "0"
                ],
                [
                  "lon",
                  "0",
                  "0",
                  "0",
                  "0"
                ],
                [
                  "Tienda_id",
                  "0",
                  "0",
                  "0",
                  "0"
                ]
              ],
              "shape": {
                "columns": 4,
                "rows": 13
              }
            },
            "text/html": [
              "<div>\n",
              "<style scoped>\n",
              "    .dataframe tbody tr th:only-of-type {\n",
              "        vertical-align: middle;\n",
              "    }\n",
              "\n",
              "    .dataframe tbody tr th {\n",
              "        vertical-align: top;\n",
              "    }\n",
              "\n",
              "    .dataframe thead th {\n",
              "        text-align: right;\n",
              "    }\n",
              "</style>\n",
              "<table border=\"1\" class=\"dataframe\">\n",
              "  <thead>\n",
              "    <tr style=\"text-align: right;\">\n",
              "      <th>Tienda_id</th>\n",
              "      <th>1</th>\n",
              "      <th>2</th>\n",
              "      <th>3</th>\n",
              "      <th>4</th>\n",
              "    </tr>\n",
              "  </thead>\n",
              "  <tbody>\n",
              "    <tr>\n",
              "      <th>Producto</th>\n",
              "      <td>0</td>\n",
              "      <td>0</td>\n",
              "      <td>0</td>\n",
              "      <td>0</td>\n",
              "    </tr>\n",
              "    <tr>\n",
              "      <th>Categoría del Producto</th>\n",
              "      <td>0</td>\n",
              "      <td>0</td>\n",
              "      <td>0</td>\n",
              "      <td>0</td>\n",
              "    </tr>\n",
              "    <tr>\n",
              "      <th>Precio</th>\n",
              "      <td>0</td>\n",
              "      <td>0</td>\n",
              "      <td>0</td>\n",
              "      <td>0</td>\n",
              "    </tr>\n",
              "    <tr>\n",
              "      <th>Costo de envío</th>\n",
              "      <td>0</td>\n",
              "      <td>0</td>\n",
              "      <td>0</td>\n",
              "      <td>0</td>\n",
              "    </tr>\n",
              "    <tr>\n",
              "      <th>Fecha de Compra</th>\n",
              "      <td>0</td>\n",
              "      <td>0</td>\n",
              "      <td>0</td>\n",
              "      <td>0</td>\n",
              "    </tr>\n",
              "    <tr>\n",
              "      <th>Vendedor</th>\n",
              "      <td>0</td>\n",
              "      <td>0</td>\n",
              "      <td>0</td>\n",
              "      <td>0</td>\n",
              "    </tr>\n",
              "    <tr>\n",
              "      <th>Lugar de Compra</th>\n",
              "      <td>0</td>\n",
              "      <td>0</td>\n",
              "      <td>0</td>\n",
              "      <td>0</td>\n",
              "    </tr>\n",
              "    <tr>\n",
              "      <th>Calificación</th>\n",
              "      <td>0</td>\n",
              "      <td>0</td>\n",
              "      <td>0</td>\n",
              "      <td>0</td>\n",
              "    </tr>\n",
              "    <tr>\n",
              "      <th>Método de pago</th>\n",
              "      <td>0</td>\n",
              "      <td>0</td>\n",
              "      <td>0</td>\n",
              "      <td>0</td>\n",
              "    </tr>\n",
              "    <tr>\n",
              "      <th>Cantidad de cuotas</th>\n",
              "      <td>0</td>\n",
              "      <td>0</td>\n",
              "      <td>0</td>\n",
              "      <td>0</td>\n",
              "    </tr>\n",
              "    <tr>\n",
              "      <th>lat</th>\n",
              "      <td>0</td>\n",
              "      <td>0</td>\n",
              "      <td>0</td>\n",
              "      <td>0</td>\n",
              "    </tr>\n",
              "    <tr>\n",
              "      <th>lon</th>\n",
              "      <td>0</td>\n",
              "      <td>0</td>\n",
              "      <td>0</td>\n",
              "      <td>0</td>\n",
              "    </tr>\n",
              "    <tr>\n",
              "      <th>Tienda_id</th>\n",
              "      <td>0</td>\n",
              "      <td>0</td>\n",
              "      <td>0</td>\n",
              "      <td>0</td>\n",
              "    </tr>\n",
              "  </tbody>\n",
              "</table>\n",
              "</div>"
            ],
            "text/plain": [
              "Tienda_id               1  2  3  4\n",
              "Producto                0  0  0  0\n",
              "Categoría del Producto  0  0  0  0\n",
              "Precio                  0  0  0  0\n",
              "Costo de envío          0  0  0  0\n",
              "Fecha de Compra         0  0  0  0\n",
              "Vendedor                0  0  0  0\n",
              "Lugar de Compra         0  0  0  0\n",
              "Calificación            0  0  0  0\n",
              "Método de pago          0  0  0  0\n",
              "Cantidad de cuotas      0  0  0  0\n",
              "lat                     0  0  0  0\n",
              "lon                     0  0  0  0\n",
              "Tienda_id               0  0  0  0"
            ]
          },
          "execution_count": 7,
          "metadata": {},
          "output_type": "execute_result"
        }
      ],
      "source": [
        "valores_nulos(datos)"
      ]
    },
    {
      "cell_type": "markdown",
      "metadata": {},
      "source": [
        "No se encontraron valores faltantes, por lo que no se debe hacer ningún tratamiento "
      ]
    },
    {
      "cell_type": "markdown",
      "metadata": {
        "id": "X62IW3KFUIYm"
      },
      "source": [
        "# 1. Análisis de facturación"
      ]
    },
    {
      "cell_type": "code",
      "execution_count": 11,
      "metadata": {
        "id": "xykobSftV64I"
      },
      "outputs": [],
      "source": [
        "''' Función lamda para sumar los datos agrupados por tienda, de la columna especificada y ordenarlos de forma descendente.'''\n",
        "suma_datos_por_columna = lambda datos, columna: datos.groupby('Tienda_id')[columna].sum().sort_values(ascending=False)"
      ]
    },
    {
      "cell_type": "code",
      "execution_count": 12,
      "metadata": {
        "id": "KDyr8E71V3m-"
      },
      "outputs": [],
      "source": [
        "ingreso_total = suma_datos_por_columna(datos, 'Precio')"
      ]
    },
    {
      "cell_type": "code",
      "execution_count": 13,
      "metadata": {},
      "outputs": [
        {
          "data": {
            "application/vnd.microsoft.datawrangler.viewer.v0+json": {
              "columns": [
                {
                  "name": "Tienda_id",
                  "rawType": "int64",
                  "type": "integer"
                },
                {
                  "name": "Precio",
                  "rawType": "float64",
                  "type": "float"
                }
              ],
              "ref": "cb07d6f5-a72a-461c-b4e1-5a2909e4e3d3",
              "rows": [
                [
                  "1",
                  "1150880400.0"
                ],
                [
                  "2",
                  "1116343500.0"
                ],
                [
                  "3",
                  "1098019600.0"
                ],
                [
                  "4",
                  "1038375700.0"
                ]
              ],
              "shape": {
                "columns": 1,
                "rows": 4
              }
            },
            "text/plain": [
              "Tienda_id\n",
              "1    1.150880e+09\n",
              "2    1.116344e+09\n",
              "3    1.098020e+09\n",
              "4    1.038376e+09\n",
              "Name: Precio, dtype: float64"
            ]
          },
          "execution_count": 13,
          "metadata": {},
          "output_type": "execute_result"
        }
      ],
      "source": [
        "ingreso_total"
      ]
    },
    {
      "cell_type": "markdown",
      "metadata": {
        "id": "2V_vcAPzWZmR"
      },
      "source": [
        "# 2. Ventas por categoría"
      ]
    },
    {
      "cell_type": "code",
      "execution_count": null,
      "metadata": {
        "id": "A34YupIuYhfF"
      },
      "outputs": [],
      "source": []
    },
    {
      "cell_type": "code",
      "execution_count": null,
      "metadata": {
        "id": "yZR6cOjXYSk1"
      },
      "outputs": [],
      "source": []
    },
    {
      "cell_type": "markdown",
      "metadata": {
        "id": "Rq6tU_xSY3jk"
      },
      "source": [
        "# 3. Calificación promedio de la tienda\n"
      ]
    },
    {
      "cell_type": "code",
      "execution_count": null,
      "metadata": {
        "id": "bh3jjjJwY5MU"
      },
      "outputs": [],
      "source": []
    },
    {
      "cell_type": "code",
      "execution_count": null,
      "metadata": {
        "id": "I0KkjPoTY88F"
      },
      "outputs": [],
      "source": []
    },
    {
      "cell_type": "markdown",
      "metadata": {
        "id": "DmNp1KPBZCm-"
      },
      "source": [
        "# 4. Productos más y menos vendidos"
      ]
    },
    {
      "cell_type": "code",
      "execution_count": null,
      "metadata": {
        "id": "qoyjqijQZHfF"
      },
      "outputs": [],
      "source": []
    },
    {
      "cell_type": "code",
      "execution_count": null,
      "metadata": {
        "id": "0Sw3sd4IZIGW"
      },
      "outputs": [],
      "source": []
    },
    {
      "cell_type": "markdown",
      "metadata": {
        "id": "Fl0cGi3bZKqU"
      },
      "source": [
        "# 5. Envío promedio por tienda"
      ]
    },
    {
      "cell_type": "code",
      "execution_count": null,
      "metadata": {
        "id": "S2JeaCykZNy9"
      },
      "outputs": [],
      "source": []
    },
    {
      "cell_type": "code",
      "execution_count": null,
      "metadata": {
        "id": "0tSdCie9ZQlt"
      },
      "outputs": [],
      "source": []
    }
  ],
  "metadata": {
    "colab": {
      "provenance": []
    },
    "kernelspec": {
      "display_name": "Python 3",
      "name": "python3"
    },
    "language_info": {
      "codemirror_mode": {
        "name": "ipython",
        "version": 3
      },
      "file_extension": ".py",
      "mimetype": "text/x-python",
      "name": "python",
      "nbconvert_exporter": "python",
      "pygments_lexer": "ipython3",
      "version": "3.12.8"
    }
  },
  "nbformat": 4,
  "nbformat_minor": 0
}
